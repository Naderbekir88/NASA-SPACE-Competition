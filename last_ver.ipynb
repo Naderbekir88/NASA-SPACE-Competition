{
 "cells": [
  {
   "cell_type": "code",
   "execution_count": 1,
   "metadata": {},
   "outputs": [],
   "source": [
    "import numpy as np # linear algebra\n",
    "import pandas as pd # data processing, CSV file I/O (e.g. pd.read_csv)\n",
    "import glob\n",
    "\n",
    "import seaborn as sns\n",
    "import matplotlib.pyplot as plt\n",
    "\n",
    "pd.set_option('display.max_columns', None)\n",
    "\n",
    "from sklearn.model_selection import train_test_split"
   ]
  },
  {
   "cell_type": "markdown",
   "metadata": {},
   "source": [
    "# Earthquakes"
   ]
  },
  {
   "cell_type": "code",
   "execution_count": 2,
   "metadata": {},
   "outputs": [],
   "source": [
    "path = r'C:\\Users\\ibrah\\Downloads\\PR\\earthquakes' # use your path\n",
    "all_files = glob.glob(path + \"/*.csv\")\n",
    "\n",
    "li = []\n",
    "\n",
    "for filename in all_files:\n",
    "    df = pd.read_csv(filename, index_col=None, header=0)\n",
    "    li.append(df)\n",
    "\n",
    "earth = pd.concat(li, axis=0, ignore_index=True)"
   ]
  },
  {
   "cell_type": "code",
   "execution_count": 3,
   "metadata": {},
   "outputs": [
    {
     "data": {
      "text/html": [
       "<div>\n",
       "<style scoped>\n",
       "    .dataframe tbody tr th:only-of-type {\n",
       "        vertical-align: middle;\n",
       "    }\n",
       "\n",
       "    .dataframe tbody tr th {\n",
       "        vertical-align: top;\n",
       "    }\n",
       "\n",
       "    .dataframe thead th {\n",
       "        text-align: right;\n",
       "    }\n",
       "</style>\n",
       "<table border=\"1\" class=\"dataframe\">\n",
       "  <thead>\n",
       "    <tr style=\"text-align: right;\">\n",
       "      <th></th>\n",
       "      <th>time</th>\n",
       "      <th>latitude</th>\n",
       "      <th>longitude</th>\n",
       "      <th>depth</th>\n",
       "      <th>mag</th>\n",
       "      <th>magType</th>\n",
       "      <th>nst</th>\n",
       "      <th>gap</th>\n",
       "      <th>dmin</th>\n",
       "      <th>rms</th>\n",
       "      <th>net</th>\n",
       "      <th>id</th>\n",
       "      <th>updated</th>\n",
       "      <th>place</th>\n",
       "      <th>type</th>\n",
       "      <th>horizontalError</th>\n",
       "      <th>depthError</th>\n",
       "      <th>magError</th>\n",
       "      <th>magNst</th>\n",
       "      <th>status</th>\n",
       "      <th>locationSource</th>\n",
       "      <th>magSource</th>\n",
       "    </tr>\n",
       "  </thead>\n",
       "  <tbody>\n",
       "    <tr>\n",
       "      <th>0</th>\n",
       "      <td>2020-05-02T23:49:13.744Z</td>\n",
       "      <td>43.153200</td>\n",
       "      <td>17.982800</td>\n",
       "      <td>10.00</td>\n",
       "      <td>3.30</td>\n",
       "      <td>ml</td>\n",
       "      <td>NaN</td>\n",
       "      <td>43.0</td>\n",
       "      <td>1.18600</td>\n",
       "      <td>0.58</td>\n",
       "      <td>us</td>\n",
       "      <td>us700099gx</td>\n",
       "      <td>2020-07-18T21:57:32.040Z</td>\n",
       "      <td>7 km NNE of Stolac, Bosnia and Herzegovina</td>\n",
       "      <td>earthquake</td>\n",
       "      <td>5.10</td>\n",
       "      <td>2.00</td>\n",
       "      <td>0.056</td>\n",
       "      <td>42.0</td>\n",
       "      <td>reviewed</td>\n",
       "      <td>us</td>\n",
       "      <td>us</td>\n",
       "    </tr>\n",
       "    <tr>\n",
       "      <th>1</th>\n",
       "      <td>2020-05-02T23:44:37.050Z</td>\n",
       "      <td>32.755333</td>\n",
       "      <td>-115.430667</td>\n",
       "      <td>16.91</td>\n",
       "      <td>3.58</td>\n",
       "      <td>ml</td>\n",
       "      <td>82.0</td>\n",
       "      <td>36.0</td>\n",
       "      <td>0.05166</td>\n",
       "      <td>0.30</td>\n",
       "      <td>ci</td>\n",
       "      <td>ci38477458</td>\n",
       "      <td>2020-07-18T21:57:14.040Z</td>\n",
       "      <td>8km SW of Holtville, CA</td>\n",
       "      <td>earthquake</td>\n",
       "      <td>0.22</td>\n",
       "      <td>0.41</td>\n",
       "      <td>0.123</td>\n",
       "      <td>179.0</td>\n",
       "      <td>reviewed</td>\n",
       "      <td>ci</td>\n",
       "      <td>ci</td>\n",
       "    </tr>\n",
       "    <tr>\n",
       "      <th>2</th>\n",
       "      <td>2020-05-02T23:35:46.541Z</td>\n",
       "      <td>-17.702500</td>\n",
       "      <td>167.301800</td>\n",
       "      <td>10.00</td>\n",
       "      <td>4.60</td>\n",
       "      <td>mb</td>\n",
       "      <td>NaN</td>\n",
       "      <td>151.0</td>\n",
       "      <td>2.24400</td>\n",
       "      <td>0.91</td>\n",
       "      <td>us</td>\n",
       "      <td>us70009bsc</td>\n",
       "      <td>2020-07-18T21:57:44.040Z</td>\n",
       "      <td>107 km W of Port-Vila, Vanuatu</td>\n",
       "      <td>earthquake</td>\n",
       "      <td>5.80</td>\n",
       "      <td>1.90</td>\n",
       "      <td>0.102</td>\n",
       "      <td>29.0</td>\n",
       "      <td>reviewed</td>\n",
       "      <td>us</td>\n",
       "      <td>us</td>\n",
       "    </tr>\n",
       "    <tr>\n",
       "      <th>3</th>\n",
       "      <td>2020-05-02T23:26:49.070Z</td>\n",
       "      <td>17.941300</td>\n",
       "      <td>-66.643600</td>\n",
       "      <td>7.00</td>\n",
       "      <td>2.73</td>\n",
       "      <td>md</td>\n",
       "      <td>20.0</td>\n",
       "      <td>188.0</td>\n",
       "      <td>0.10820</td>\n",
       "      <td>0.16</td>\n",
       "      <td>pr</td>\n",
       "      <td>pr2020123043</td>\n",
       "      <td>2020-05-04T02:02:14.448Z</td>\n",
       "      <td>7 km SSW of Ponce, Puerto Rico</td>\n",
       "      <td>earthquake</td>\n",
       "      <td>0.55</td>\n",
       "      <td>0.28</td>\n",
       "      <td>0.150</td>\n",
       "      <td>12.0</td>\n",
       "      <td>reviewed</td>\n",
       "      <td>pr</td>\n",
       "      <td>pr</td>\n",
       "    </tr>\n",
       "    <tr>\n",
       "      <th>4</th>\n",
       "      <td>2020-05-02T22:24:49.290Z</td>\n",
       "      <td>19.309100</td>\n",
       "      <td>-67.389000</td>\n",
       "      <td>51.00</td>\n",
       "      <td>3.55</td>\n",
       "      <td>md</td>\n",
       "      <td>22.0</td>\n",
       "      <td>291.0</td>\n",
       "      <td>0.88630</td>\n",
       "      <td>0.33</td>\n",
       "      <td>pr</td>\n",
       "      <td>pr2020123028</td>\n",
       "      <td>2020-07-18T21:57:14.040Z</td>\n",
       "      <td>95 km NNW of San Antonio, Puerto Rico</td>\n",
       "      <td>earthquake</td>\n",
       "      <td>2.09</td>\n",
       "      <td>7.13</td>\n",
       "      <td>0.120</td>\n",
       "      <td>18.0</td>\n",
       "      <td>reviewed</td>\n",
       "      <td>pr</td>\n",
       "      <td>pr</td>\n",
       "    </tr>\n",
       "  </tbody>\n",
       "</table>\n",
       "</div>"
      ],
      "text/plain": [
       "                       time   latitude   longitude  depth   mag magType   nst  \\\n",
       "0  2020-05-02T23:49:13.744Z  43.153200   17.982800  10.00  3.30      ml   NaN   \n",
       "1  2020-05-02T23:44:37.050Z  32.755333 -115.430667  16.91  3.58      ml  82.0   \n",
       "2  2020-05-02T23:35:46.541Z -17.702500  167.301800  10.00  4.60      mb   NaN   \n",
       "3  2020-05-02T23:26:49.070Z  17.941300  -66.643600   7.00  2.73      md  20.0   \n",
       "4  2020-05-02T22:24:49.290Z  19.309100  -67.389000  51.00  3.55      md  22.0   \n",
       "\n",
       "     gap     dmin   rms net            id                   updated  \\\n",
       "0   43.0  1.18600  0.58  us    us700099gx  2020-07-18T21:57:32.040Z   \n",
       "1   36.0  0.05166  0.30  ci    ci38477458  2020-07-18T21:57:14.040Z   \n",
       "2  151.0  2.24400  0.91  us    us70009bsc  2020-07-18T21:57:44.040Z   \n",
       "3  188.0  0.10820  0.16  pr  pr2020123043  2020-05-04T02:02:14.448Z   \n",
       "4  291.0  0.88630  0.33  pr  pr2020123028  2020-07-18T21:57:14.040Z   \n",
       "\n",
       "                                        place        type  horizontalError  \\\n",
       "0  7 km NNE of Stolac, Bosnia and Herzegovina  earthquake             5.10   \n",
       "1                     8km SW of Holtville, CA  earthquake             0.22   \n",
       "2              107 km W of Port-Vila, Vanuatu  earthquake             5.80   \n",
       "3              7 km SSW of Ponce, Puerto Rico  earthquake             0.55   \n",
       "4       95 km NNW of San Antonio, Puerto Rico  earthquake             2.09   \n",
       "\n",
       "   depthError  magError  magNst    status locationSource magSource  \n",
       "0        2.00     0.056    42.0  reviewed             us        us  \n",
       "1        0.41     0.123   179.0  reviewed             ci        ci  \n",
       "2        1.90     0.102    29.0  reviewed             us        us  \n",
       "3        0.28     0.150    12.0  reviewed             pr        pr  \n",
       "4        7.13     0.120    18.0  reviewed             pr        pr  "
      ]
     },
     "execution_count": 3,
     "metadata": {},
     "output_type": "execute_result"
    }
   ],
   "source": [
    "earth.head()"
   ]
  },
  {
   "cell_type": "code",
   "execution_count": 4,
   "metadata": {},
   "outputs": [
    {
     "data": {
      "text/plain": [
       "(207058, 22)"
      ]
     },
     "execution_count": 4,
     "metadata": {},
     "output_type": "execute_result"
    }
   ],
   "source": [
    "earth.shape"
   ]
  },
  {
   "cell_type": "code",
   "execution_count": 5,
   "metadata": {},
   "outputs": [
    {
     "name": "stdout",
     "output_type": "stream",
     "text": [
      "<class 'pandas.core.frame.DataFrame'>\n",
      "RangeIndex: 207058 entries, 0 to 207057\n",
      "Data columns (total 22 columns):\n",
      " #   Column           Non-Null Count   Dtype  \n",
      "---  ------           --------------   -----  \n",
      " 0   time             207058 non-null  object \n",
      " 1   latitude         207058 non-null  float64\n",
      " 2   longitude        207058 non-null  float64\n",
      " 3   depth            207058 non-null  float64\n",
      " 4   mag              207058 non-null  float64\n",
      " 5   magType          207057 non-null  object \n",
      " 6   nst              53767 non-null   float64\n",
      " 7   gap              185764 non-null  float64\n",
      " 8   dmin             177065 non-null  float64\n",
      " 9   rms              207045 non-null  float64\n",
      " 10  net              207058 non-null  object \n",
      " 11  id               207058 non-null  object \n",
      " 12  updated          207058 non-null  object \n",
      " 13  place            207035 non-null  object \n",
      " 14  type             207058 non-null  object \n",
      " 15  horizontalError  188158 non-null  float64\n",
      " 16  depthError       207043 non-null  float64\n",
      " 17  magError         173966 non-null  float64\n",
      " 18  magNst           176674 non-null  float64\n",
      " 19  status           207058 non-null  object \n",
      " 20  locationSource   207058 non-null  object \n",
      " 21  magSource        207058 non-null  object \n",
      "dtypes: float64(12), object(10)\n",
      "memory usage: 34.8+ MB\n"
     ]
    }
   ],
   "source": [
    "earth.info()"
   ]
  },
  {
   "cell_type": "code",
   "execution_count": 6,
   "metadata": {},
   "outputs": [],
   "source": [
    "earth['time'] = pd.to_datetime(earth['time'])"
   ]
  },
  {
   "cell_type": "code",
   "execution_count": 7,
   "metadata": {},
   "outputs": [
    {
     "data": {
      "text/html": [
       "<div>\n",
       "<style scoped>\n",
       "    .dataframe tbody tr th:only-of-type {\n",
       "        vertical-align: middle;\n",
       "    }\n",
       "\n",
       "    .dataframe tbody tr th {\n",
       "        vertical-align: top;\n",
       "    }\n",
       "\n",
       "    .dataframe thead th {\n",
       "        text-align: right;\n",
       "    }\n",
       "</style>\n",
       "<table border=\"1\" class=\"dataframe\">\n",
       "  <thead>\n",
       "    <tr style=\"text-align: right;\">\n",
       "      <th></th>\n",
       "      <th>time</th>\n",
       "      <th>latitude</th>\n",
       "      <th>longitude</th>\n",
       "      <th>depth</th>\n",
       "      <th>mag</th>\n",
       "      <th>magType</th>\n",
       "      <th>nst</th>\n",
       "      <th>gap</th>\n",
       "      <th>dmin</th>\n",
       "      <th>rms</th>\n",
       "      <th>net</th>\n",
       "      <th>id</th>\n",
       "      <th>updated</th>\n",
       "      <th>place</th>\n",
       "      <th>type</th>\n",
       "      <th>horizontalError</th>\n",
       "      <th>depthError</th>\n",
       "      <th>magError</th>\n",
       "      <th>magNst</th>\n",
       "      <th>status</th>\n",
       "      <th>locationSource</th>\n",
       "      <th>magSource</th>\n",
       "    </tr>\n",
       "  </thead>\n",
       "  <tbody>\n",
       "    <tr>\n",
       "      <th>33613</th>\n",
       "      <td>2014-10-02 00:13:39.470000+00:00</td>\n",
       "      <td>-21.1000</td>\n",
       "      <td>-174.4863</td>\n",
       "      <td>10.00</td>\n",
       "      <td>5.0</td>\n",
       "      <td>mb</td>\n",
       "      <td>NaN</td>\n",
       "      <td>76.0</td>\n",
       "      <td>17.764</td>\n",
       "      <td>0.42</td>\n",
       "      <td>us</td>\n",
       "      <td>usb000si16</td>\n",
       "      <td>2014-12-23T01:41:57.040Z</td>\n",
       "      <td>54 km ENE of ‘Ohonua, Tonga</td>\n",
       "      <td>earthquake</td>\n",
       "      <td>10.3</td>\n",
       "      <td>1.7</td>\n",
       "      <td>0.055</td>\n",
       "      <td>111.0</td>\n",
       "      <td>reviewed</td>\n",
       "      <td>us</td>\n",
       "      <td>us</td>\n",
       "    </tr>\n",
       "    <tr>\n",
       "      <th>33612</th>\n",
       "      <td>2014-10-02 00:37:01.600000+00:00</td>\n",
       "      <td>64.5978</td>\n",
       "      <td>-17.6197</td>\n",
       "      <td>8.27</td>\n",
       "      <td>4.9</td>\n",
       "      <td>mb</td>\n",
       "      <td>NaN</td>\n",
       "      <td>63.0</td>\n",
       "      <td>1.601</td>\n",
       "      <td>0.45</td>\n",
       "      <td>us</td>\n",
       "      <td>usb000si1b</td>\n",
       "      <td>2014-12-23T01:41:57.040Z</td>\n",
       "      <td>122 km WNW of Höfn, Iceland</td>\n",
       "      <td>earthquake</td>\n",
       "      <td>6.7</td>\n",
       "      <td>3.8</td>\n",
       "      <td>0.045</td>\n",
       "      <td>163.0</td>\n",
       "      <td>reviewed</td>\n",
       "      <td>us</td>\n",
       "      <td>us</td>\n",
       "    </tr>\n",
       "    <tr>\n",
       "      <th>33611</th>\n",
       "      <td>2014-10-02 00:53:40.180000+00:00</td>\n",
       "      <td>-24.2301</td>\n",
       "      <td>-179.8368</td>\n",
       "      <td>512.78</td>\n",
       "      <td>4.2</td>\n",
       "      <td>mb</td>\n",
       "      <td>NaN</td>\n",
       "      <td>104.0</td>\n",
       "      <td>5.277</td>\n",
       "      <td>0.80</td>\n",
       "      <td>us</td>\n",
       "      <td>usb000slzq</td>\n",
       "      <td>2014-12-23T01:41:57.040Z</td>\n",
       "      <td>south of the Fiji Islands</td>\n",
       "      <td>earthquake</td>\n",
       "      <td>15.4</td>\n",
       "      <td>9.5</td>\n",
       "      <td>0.112</td>\n",
       "      <td>23.0</td>\n",
       "      <td>reviewed</td>\n",
       "      <td>us</td>\n",
       "      <td>us</td>\n",
       "    </tr>\n",
       "    <tr>\n",
       "      <th>33610</th>\n",
       "      <td>2014-10-02 01:20:00.100000+00:00</td>\n",
       "      <td>36.1799</td>\n",
       "      <td>-97.2545</td>\n",
       "      <td>5.00</td>\n",
       "      <td>2.8</td>\n",
       "      <td>ml</td>\n",
       "      <td>NaN</td>\n",
       "      <td>57.0</td>\n",
       "      <td>NaN</td>\n",
       "      <td>0.45</td>\n",
       "      <td>us</td>\n",
       "      <td>usb000si1g</td>\n",
       "      <td>2014-12-23T01:41:57.040Z</td>\n",
       "      <td>11 km ENE of Orlando, Oklahoma</td>\n",
       "      <td>earthquake</td>\n",
       "      <td>1.4</td>\n",
       "      <td>2.0</td>\n",
       "      <td>NaN</td>\n",
       "      <td>NaN</td>\n",
       "      <td>reviewed</td>\n",
       "      <td>tul</td>\n",
       "      <td>tul</td>\n",
       "    </tr>\n",
       "    <tr>\n",
       "      <th>33609</th>\n",
       "      <td>2014-10-02 01:27:22.060000+00:00</td>\n",
       "      <td>-24.5057</td>\n",
       "      <td>-179.9794</td>\n",
       "      <td>524.26</td>\n",
       "      <td>4.5</td>\n",
       "      <td>mb</td>\n",
       "      <td>NaN</td>\n",
       "      <td>118.0</td>\n",
       "      <td>6.973</td>\n",
       "      <td>0.76</td>\n",
       "      <td>us</td>\n",
       "      <td>usb000si24</td>\n",
       "      <td>2014-12-23T01:41:57.040Z</td>\n",
       "      <td>south of the Fiji Islands</td>\n",
       "      <td>earthquake</td>\n",
       "      <td>13.3</td>\n",
       "      <td>8.1</td>\n",
       "      <td>0.098</td>\n",
       "      <td>32.0</td>\n",
       "      <td>reviewed</td>\n",
       "      <td>us</td>\n",
       "      <td>us</td>\n",
       "    </tr>\n",
       "  </tbody>\n",
       "</table>\n",
       "</div>"
      ],
      "text/plain": [
       "                                  time  latitude  longitude   depth  mag  \\\n",
       "33613 2014-10-02 00:13:39.470000+00:00  -21.1000  -174.4863   10.00  5.0   \n",
       "33612 2014-10-02 00:37:01.600000+00:00   64.5978   -17.6197    8.27  4.9   \n",
       "33611 2014-10-02 00:53:40.180000+00:00  -24.2301  -179.8368  512.78  4.2   \n",
       "33610 2014-10-02 01:20:00.100000+00:00   36.1799   -97.2545    5.00  2.8   \n",
       "33609 2014-10-02 01:27:22.060000+00:00  -24.5057  -179.9794  524.26  4.5   \n",
       "\n",
       "      magType  nst    gap    dmin   rms net          id  \\\n",
       "33613      mb  NaN   76.0  17.764  0.42  us  usb000si16   \n",
       "33612      mb  NaN   63.0   1.601  0.45  us  usb000si1b   \n",
       "33611      mb  NaN  104.0   5.277  0.80  us  usb000slzq   \n",
       "33610      ml  NaN   57.0     NaN  0.45  us  usb000si1g   \n",
       "33609      mb  NaN  118.0   6.973  0.76  us  usb000si24   \n",
       "\n",
       "                        updated                           place        type  \\\n",
       "33613  2014-12-23T01:41:57.040Z     54 km ENE of ‘Ohonua, Tonga  earthquake   \n",
       "33612  2014-12-23T01:41:57.040Z     122 km WNW of Höfn, Iceland  earthquake   \n",
       "33611  2014-12-23T01:41:57.040Z       south of the Fiji Islands  earthquake   \n",
       "33610  2014-12-23T01:41:57.040Z  11 km ENE of Orlando, Oklahoma  earthquake   \n",
       "33609  2014-12-23T01:41:57.040Z       south of the Fiji Islands  earthquake   \n",
       "\n",
       "       horizontalError  depthError  magError  magNst    status locationSource  \\\n",
       "33613             10.3         1.7     0.055   111.0  reviewed             us   \n",
       "33612              6.7         3.8     0.045   163.0  reviewed             us   \n",
       "33611             15.4         9.5     0.112    23.0  reviewed             us   \n",
       "33610              1.4         2.0       NaN     NaN  reviewed            tul   \n",
       "33609             13.3         8.1     0.098    32.0  reviewed             us   \n",
       "\n",
       "      magSource  \n",
       "33613        us  \n",
       "33612        us  \n",
       "33611        us  \n",
       "33610       tul  \n",
       "33609        us  "
      ]
     },
     "execution_count": 7,
     "metadata": {},
     "output_type": "execute_result"
    }
   ],
   "source": [
    "earth=earth.sort_values(by='time')\n",
    "earth.head()"
   ]
  },
  {
   "cell_type": "code",
   "execution_count": 8,
   "metadata": {
    "scrolled": false
   },
   "outputs": [
    {
     "data": {
      "text/plain": [
       "time                    0\n",
       "latitude                0\n",
       "longitude               0\n",
       "depth                   0\n",
       "mag                     0\n",
       "magType                 1\n",
       "nst                153291\n",
       "gap                 21294\n",
       "dmin                29993\n",
       "rms                    13\n",
       "net                     0\n",
       "id                      0\n",
       "updated                 0\n",
       "place                  23\n",
       "type                    0\n",
       "horizontalError     18900\n",
       "depthError             15\n",
       "magError            33092\n",
       "magNst              30384\n",
       "status                  0\n",
       "locationSource          0\n",
       "magSource               0\n",
       "dtype: int64"
      ]
     },
     "execution_count": 8,
     "metadata": {},
     "output_type": "execute_result"
    }
   ],
   "source": [
    "earth.isnull().sum()"
   ]
  },
  {
   "cell_type": "code",
   "execution_count": 9,
   "metadata": {},
   "outputs": [],
   "source": [
    "earth['latitude'] = round(earth['latitude'])\n",
    "earth['longitude'] = round(earth['longitude'])"
   ]
  },
  {
   "cell_type": "code",
   "execution_count": 10,
   "metadata": {},
   "outputs": [],
   "source": [
    "earth['merge'] = earth['latitude'].astype('str') + ',' +earth['longitude'].astype('str')"
   ]
  },
  {
   "cell_type": "code",
   "execution_count": 11,
   "metadata": {},
   "outputs": [
    {
     "data": {
      "text/plain": [
       "33613     -21.0,-174.0\n",
       "33612       65.0,-18.0\n",
       "33611     -24.0,-180.0\n",
       "33610       36.0,-97.0\n",
       "33609     -25.0,-180.0\n",
       "              ...     \n",
       "179788     32.0,-104.0\n",
       "179787     36.0,-117.0\n",
       "179786     38.0,-122.0\n",
       "179785     19.0,-155.0\n",
       "179784       -9.0,67.0\n",
       "Name: merge, Length: 207058, dtype: object"
      ]
     },
     "execution_count": 11,
     "metadata": {},
     "output_type": "execute_result"
    }
   ],
   "source": [
    "earth['merge']"
   ]
  },
  {
   "cell_type": "code",
   "execution_count": 12,
   "metadata": {},
   "outputs": [
    {
     "data": {
      "text/html": [
       "<div>\n",
       "<style scoped>\n",
       "    .dataframe tbody tr th:only-of-type {\n",
       "        vertical-align: middle;\n",
       "    }\n",
       "\n",
       "    .dataframe tbody tr th {\n",
       "        vertical-align: top;\n",
       "    }\n",
       "\n",
       "    .dataframe thead th {\n",
       "        text-align: right;\n",
       "    }\n",
       "</style>\n",
       "<table border=\"1\" class=\"dataframe\">\n",
       "  <thead>\n",
       "    <tr style=\"text-align: right;\">\n",
       "      <th></th>\n",
       "      <th>OBJECTID</th>\n",
       "      <th>landslide_trigger</th>\n",
       "      <th>event_date</th>\n",
       "      <th>latitude</th>\n",
       "      <th>longitude</th>\n",
       "      <th>landslide_size</th>\n",
       "    </tr>\n",
       "  </thead>\n",
       "  <tbody>\n",
       "    <tr>\n",
       "      <th>0</th>\n",
       "      <td>5689756</td>\n",
       "      <td>rain</td>\n",
       "      <td>2008-08-01 00:00:00</td>\n",
       "      <td>32.5625</td>\n",
       "      <td>107.4500</td>\n",
       "      <td>large</td>\n",
       "    </tr>\n",
       "    <tr>\n",
       "      <th>1</th>\n",
       "      <td>5689757</td>\n",
       "      <td>downpour</td>\n",
       "      <td>2009-01-02 02:00:00</td>\n",
       "      <td>45.4200</td>\n",
       "      <td>-122.6630</td>\n",
       "      <td>small</td>\n",
       "    </tr>\n",
       "    <tr>\n",
       "      <th>2</th>\n",
       "      <td>5689758</td>\n",
       "      <td>downpour</td>\n",
       "      <td>2007-01-19 00:00:00</td>\n",
       "      <td>-11.1295</td>\n",
       "      <td>-75.3587</td>\n",
       "      <td>large</td>\n",
       "    </tr>\n",
       "    <tr>\n",
       "      <th>3</th>\n",
       "      <td>5689761</td>\n",
       "      <td>downpour</td>\n",
       "      <td>2012-02-16 00:00:00</td>\n",
       "      <td>10.7004</td>\n",
       "      <td>124.9668</td>\n",
       "      <td>medium</td>\n",
       "    </tr>\n",
       "    <tr>\n",
       "      <th>4</th>\n",
       "      <td>5689762</td>\n",
       "      <td>downpour</td>\n",
       "      <td>2012-03-30 00:00:00</td>\n",
       "      <td>48.2797</td>\n",
       "      <td>-117.2665</td>\n",
       "      <td>small</td>\n",
       "    </tr>\n",
       "  </tbody>\n",
       "</table>\n",
       "</div>"
      ],
      "text/plain": [
       "   OBJECTID landslide_trigger           event_date  latitude  longitude  \\\n",
       "0   5689756              rain  2008-08-01 00:00:00   32.5625   107.4500   \n",
       "1   5689757          downpour  2009-01-02 02:00:00   45.4200  -122.6630   \n",
       "2   5689758          downpour  2007-01-19 00:00:00  -11.1295   -75.3587   \n",
       "3   5689761          downpour  2012-02-16 00:00:00   10.7004   124.9668   \n",
       "4   5689762          downpour  2012-03-30 00:00:00   48.2797  -117.2665   \n",
       "\n",
       "  landslide_size  \n",
       "0          large  \n",
       "1          small  \n",
       "2          large  \n",
       "3         medium  \n",
       "4          small  "
      ]
     },
     "execution_count": 12,
     "metadata": {},
     "output_type": "execute_result"
    }
   ],
   "source": [
    "df = pd.read_csv('rain data.csv')\n",
    "df.head()"
   ]
  },
  {
   "cell_type": "code",
   "execution_count": 13,
   "metadata": {},
   "outputs": [
    {
     "data": {
      "text/plain": [
       "(9675, 6)"
      ]
     },
     "execution_count": 13,
     "metadata": {},
     "output_type": "execute_result"
    }
   ],
   "source": [
    "df.shape"
   ]
  },
  {
   "cell_type": "code",
   "execution_count": 14,
   "metadata": {
    "scrolled": true
   },
   "outputs": [
    {
     "data": {
      "text/plain": [
       "OBJECTID               0\n",
       "landslide_trigger      1\n",
       "event_date           204\n",
       "latitude               0\n",
       "longitude              0\n",
       "landslide_size       423\n",
       "dtype: int64"
      ]
     },
     "execution_count": 14,
     "metadata": {},
     "output_type": "execute_result"
    }
   ],
   "source": [
    "df.isnull().sum()"
   ]
  },
  {
   "cell_type": "code",
   "execution_count": 15,
   "metadata": {},
   "outputs": [],
   "source": [
    "df['latitude'] = round(df['latitude'])\n",
    "df['longitude'] = round(df['longitude'])"
   ]
  },
  {
   "cell_type": "code",
   "execution_count": 16,
   "metadata": {},
   "outputs": [],
   "source": [
    "df['merge'] = df['latitude'].astype('str') + ',' +df['longitude'].astype('str')"
   ]
  },
  {
   "cell_type": "code",
   "execution_count": 17,
   "metadata": {},
   "outputs": [
    {
     "data": {
      "text/plain": [
       "0        33.0,107.0\n",
       "1       45.0,-123.0\n",
       "2       -11.0,-75.0\n",
       "3        11.0,125.0\n",
       "4       48.0,-117.0\n",
       "           ...     \n",
       "9670    -34.0,115.0\n",
       "9671    -37.0,148.0\n",
       "9672      18.0,74.0\n",
       "9673     38.0,-84.0\n",
       "9674     38.0,-84.0\n",
       "Name: merge, Length: 9675, dtype: object"
      ]
     },
     "execution_count": 17,
     "metadata": {},
     "output_type": "execute_result"
    }
   ],
   "source": [
    "df['merge']"
   ]
  },
  {
   "cell_type": "code",
   "execution_count": 18,
   "metadata": {},
   "outputs": [],
   "source": [
    "eng_product_merge = pd.merge(df, earth, left_on='merge',right_on='merge',how='inner').drop(columns='merge')"
   ]
  },
  {
   "cell_type": "code",
   "execution_count": 19,
   "metadata": {},
   "outputs": [
    {
     "data": {
      "text/plain": [
       "(240478, 28)"
      ]
     },
     "execution_count": 19,
     "metadata": {},
     "output_type": "execute_result"
    }
   ],
   "source": [
    "eng_product_merge.shape"
   ]
  },
  {
   "cell_type": "code",
   "execution_count": 20,
   "metadata": {},
   "outputs": [
    {
     "data": {
      "text/plain": [
       "OBJECTID                 0\n",
       "landslide_trigger        0\n",
       "event_date             574\n",
       "latitude_x               0\n",
       "longitude_x              0\n",
       "landslide_size           0\n",
       "time                     0\n",
       "latitude_y               0\n",
       "longitude_y              0\n",
       "depth                    0\n",
       "mag                      0\n",
       "magType                  3\n",
       "nst                  94815\n",
       "gap                   3379\n",
       "dmin                  8074\n",
       "rms                     98\n",
       "net                      0\n",
       "id                       0\n",
       "updated                  0\n",
       "place                   17\n",
       "type                     0\n",
       "horizontalError       3339\n",
       "depthError               0\n",
       "magError             15718\n",
       "magNst                4881\n",
       "status                   0\n",
       "locationSource           0\n",
       "magSource                0\n",
       "dtype: int64"
      ]
     },
     "execution_count": 20,
     "metadata": {},
     "output_type": "execute_result"
    }
   ],
   "source": [
    "eng_product_merge.isnull().sum()"
   ]
  },
  {
   "cell_type": "code",
   "execution_count": 21,
   "metadata": {},
   "outputs": [],
   "source": [
    "eng_product_merge.dropna(inplace=True)"
   ]
  },
  {
   "cell_type": "code",
   "execution_count": 22,
   "metadata": {},
   "outputs": [
    {
     "data": {
      "text/plain": [
       "OBJECTID             0\n",
       "landslide_trigger    0\n",
       "event_date           0\n",
       "latitude_x           0\n",
       "longitude_x          0\n",
       "landslide_size       0\n",
       "time                 0\n",
       "latitude_y           0\n",
       "longitude_y          0\n",
       "depth                0\n",
       "mag                  0\n",
       "magType              0\n",
       "nst                  0\n",
       "gap                  0\n",
       "dmin                 0\n",
       "rms                  0\n",
       "net                  0\n",
       "id                   0\n",
       "updated              0\n",
       "place                0\n",
       "type                 0\n",
       "horizontalError      0\n",
       "depthError           0\n",
       "magError             0\n",
       "magNst               0\n",
       "status               0\n",
       "locationSource       0\n",
       "magSource            0\n",
       "dtype: int64"
      ]
     },
     "execution_count": 22,
     "metadata": {},
     "output_type": "execute_result"
    }
   ],
   "source": [
    "eng_product_merge.isnull().sum()"
   ]
  },
  {
   "cell_type": "code",
   "execution_count": 23,
   "metadata": {},
   "outputs": [
    {
     "data": {
      "text/plain": [
       "(129010, 28)"
      ]
     },
     "execution_count": 23,
     "metadata": {},
     "output_type": "execute_result"
    }
   ],
   "source": [
    "eng_product_merge.shape"
   ]
  },
  {
   "cell_type": "code",
   "execution_count": 24,
   "metadata": {},
   "outputs": [
    {
     "data": {
      "text/html": [
       "<div>\n",
       "<style scoped>\n",
       "    .dataframe tbody tr th:only-of-type {\n",
       "        vertical-align: middle;\n",
       "    }\n",
       "\n",
       "    .dataframe tbody tr th {\n",
       "        vertical-align: top;\n",
       "    }\n",
       "\n",
       "    .dataframe thead th {\n",
       "        text-align: right;\n",
       "    }\n",
       "</style>\n",
       "<table border=\"1\" class=\"dataframe\">\n",
       "  <thead>\n",
       "    <tr style=\"text-align: right;\">\n",
       "      <th></th>\n",
       "      <th>OBJECTID</th>\n",
       "      <th>landslide_trigger</th>\n",
       "      <th>event_date</th>\n",
       "      <th>latitude_x</th>\n",
       "      <th>longitude_x</th>\n",
       "      <th>landslide_size</th>\n",
       "      <th>time</th>\n",
       "      <th>latitude_y</th>\n",
       "      <th>longitude_y</th>\n",
       "      <th>depth</th>\n",
       "      <th>mag</th>\n",
       "      <th>magType</th>\n",
       "      <th>nst</th>\n",
       "      <th>gap</th>\n",
       "      <th>dmin</th>\n",
       "      <th>rms</th>\n",
       "      <th>net</th>\n",
       "      <th>id</th>\n",
       "      <th>updated</th>\n",
       "      <th>place</th>\n",
       "      <th>type</th>\n",
       "      <th>horizontalError</th>\n",
       "      <th>depthError</th>\n",
       "      <th>magError</th>\n",
       "      <th>magNst</th>\n",
       "      <th>status</th>\n",
       "      <th>locationSource</th>\n",
       "      <th>magSource</th>\n",
       "    </tr>\n",
       "  </thead>\n",
       "  <tbody>\n",
       "    <tr>\n",
       "      <th>0</th>\n",
       "      <td>5689757</td>\n",
       "      <td>downpour</td>\n",
       "      <td>2009-01-02 02:00:00</td>\n",
       "      <td>45.0</td>\n",
       "      <td>-123.0</td>\n",
       "      <td>small</td>\n",
       "      <td>2015-06-25 13:24:47.560000+00:00</td>\n",
       "      <td>45.0</td>\n",
       "      <td>-123.0</td>\n",
       "      <td>51.602</td>\n",
       "      <td>3.13</td>\n",
       "      <td>ml</td>\n",
       "      <td>31.0</td>\n",
       "      <td>61.0</td>\n",
       "      <td>0.15040</td>\n",
       "      <td>0.10</td>\n",
       "      <td>uw</td>\n",
       "      <td>uw61046476</td>\n",
       "      <td>2016-07-22T19:52:48.910Z</td>\n",
       "      <td>24 km WNW of Gaston, Oregon</td>\n",
       "      <td>earthquake</td>\n",
       "      <td>0.28</td>\n",
       "      <td>0.68</td>\n",
       "      <td>0.173</td>\n",
       "      <td>146.0</td>\n",
       "      <td>reviewed</td>\n",
       "      <td>uw</td>\n",
       "      <td>uw</td>\n",
       "    </tr>\n",
       "    <tr>\n",
       "      <th>1</th>\n",
       "      <td>5689757</td>\n",
       "      <td>downpour</td>\n",
       "      <td>2009-01-02 02:00:00</td>\n",
       "      <td>45.0</td>\n",
       "      <td>-123.0</td>\n",
       "      <td>small</td>\n",
       "      <td>2016-07-17 01:16:43.880000+00:00</td>\n",
       "      <td>45.0</td>\n",
       "      <td>-123.0</td>\n",
       "      <td>26.650</td>\n",
       "      <td>3.03</td>\n",
       "      <td>ml</td>\n",
       "      <td>42.0</td>\n",
       "      <td>51.0</td>\n",
       "      <td>0.03341</td>\n",
       "      <td>0.20</td>\n",
       "      <td>uw</td>\n",
       "      <td>uw61167147</td>\n",
       "      <td>2016-09-17T01:27:47.040Z</td>\n",
       "      <td>Washington-Oregon border region</td>\n",
       "      <td>earthquake</td>\n",
       "      <td>0.23</td>\n",
       "      <td>0.41</td>\n",
       "      <td>0.178</td>\n",
       "      <td>134.0</td>\n",
       "      <td>reviewed</td>\n",
       "      <td>uw</td>\n",
       "      <td>uw</td>\n",
       "    </tr>\n",
       "    <tr>\n",
       "      <th>2</th>\n",
       "      <td>5689757</td>\n",
       "      <td>downpour</td>\n",
       "      <td>2009-01-02 02:00:00</td>\n",
       "      <td>45.0</td>\n",
       "      <td>-123.0</td>\n",
       "      <td>small</td>\n",
       "      <td>2016-10-04 04:29:22.630000+00:00</td>\n",
       "      <td>45.0</td>\n",
       "      <td>-123.0</td>\n",
       "      <td>23.700</td>\n",
       "      <td>3.03</td>\n",
       "      <td>ml</td>\n",
       "      <td>41.0</td>\n",
       "      <td>37.0</td>\n",
       "      <td>0.18990</td>\n",
       "      <td>0.24</td>\n",
       "      <td>uw</td>\n",
       "      <td>uw61201937</td>\n",
       "      <td>2017-12-14T02:21:01.271Z</td>\n",
       "      <td>4 km WNW of Woodburn, Oregon</td>\n",
       "      <td>earthquake</td>\n",
       "      <td>0.30</td>\n",
       "      <td>0.96</td>\n",
       "      <td>0.111</td>\n",
       "      <td>27.0</td>\n",
       "      <td>reviewed</td>\n",
       "      <td>uw</td>\n",
       "      <td>uw</td>\n",
       "    </tr>\n",
       "    <tr>\n",
       "      <th>3</th>\n",
       "      <td>5689757</td>\n",
       "      <td>downpour</td>\n",
       "      <td>2009-01-02 02:00:00</td>\n",
       "      <td>45.0</td>\n",
       "      <td>-123.0</td>\n",
       "      <td>small</td>\n",
       "      <td>2017-06-01 16:02:57.740000+00:00</td>\n",
       "      <td>45.0</td>\n",
       "      <td>-123.0</td>\n",
       "      <td>22.480</td>\n",
       "      <td>2.96</td>\n",
       "      <td>ml</td>\n",
       "      <td>32.0</td>\n",
       "      <td>60.0</td>\n",
       "      <td>0.19470</td>\n",
       "      <td>0.22</td>\n",
       "      <td>uw</td>\n",
       "      <td>uw61272097</td>\n",
       "      <td>2018-06-26T15:33:50.096Z</td>\n",
       "      <td>9 km NW of Keizer, Oregon</td>\n",
       "      <td>earthquake</td>\n",
       "      <td>0.30</td>\n",
       "      <td>0.98</td>\n",
       "      <td>0.125</td>\n",
       "      <td>22.0</td>\n",
       "      <td>reviewed</td>\n",
       "      <td>uw</td>\n",
       "      <td>uw</td>\n",
       "    </tr>\n",
       "    <tr>\n",
       "      <th>4</th>\n",
       "      <td>5689757</td>\n",
       "      <td>downpour</td>\n",
       "      <td>2009-01-02 02:00:00</td>\n",
       "      <td>45.0</td>\n",
       "      <td>-123.0</td>\n",
       "      <td>small</td>\n",
       "      <td>2017-12-14 01:24:26.830000+00:00</td>\n",
       "      <td>45.0</td>\n",
       "      <td>-123.0</td>\n",
       "      <td>17.370</td>\n",
       "      <td>3.96</td>\n",
       "      <td>ml</td>\n",
       "      <td>53.0</td>\n",
       "      <td>40.0</td>\n",
       "      <td>0.17690</td>\n",
       "      <td>0.19</td>\n",
       "      <td>uw</td>\n",
       "      <td>uw61335997</td>\n",
       "      <td>2018-10-28T05:34:08.405Z</td>\n",
       "      <td>5 km E of Scotts Mills, Oregon</td>\n",
       "      <td>earthquake</td>\n",
       "      <td>0.22</td>\n",
       "      <td>0.82</td>\n",
       "      <td>0.210</td>\n",
       "      <td>28.0</td>\n",
       "      <td>reviewed</td>\n",
       "      <td>uw</td>\n",
       "      <td>uw</td>\n",
       "    </tr>\n",
       "  </tbody>\n",
       "</table>\n",
       "</div>"
      ],
      "text/plain": [
       "   OBJECTID landslide_trigger           event_date  latitude_x  longitude_x  \\\n",
       "0   5689757          downpour  2009-01-02 02:00:00        45.0       -123.0   \n",
       "1   5689757          downpour  2009-01-02 02:00:00        45.0       -123.0   \n",
       "2   5689757          downpour  2009-01-02 02:00:00        45.0       -123.0   \n",
       "3   5689757          downpour  2009-01-02 02:00:00        45.0       -123.0   \n",
       "4   5689757          downpour  2009-01-02 02:00:00        45.0       -123.0   \n",
       "\n",
       "  landslide_size                             time  latitude_y  longitude_y  \\\n",
       "0          small 2015-06-25 13:24:47.560000+00:00        45.0       -123.0   \n",
       "1          small 2016-07-17 01:16:43.880000+00:00        45.0       -123.0   \n",
       "2          small 2016-10-04 04:29:22.630000+00:00        45.0       -123.0   \n",
       "3          small 2017-06-01 16:02:57.740000+00:00        45.0       -123.0   \n",
       "4          small 2017-12-14 01:24:26.830000+00:00        45.0       -123.0   \n",
       "\n",
       "    depth   mag magType   nst   gap     dmin   rms net          id  \\\n",
       "0  51.602  3.13      ml  31.0  61.0  0.15040  0.10  uw  uw61046476   \n",
       "1  26.650  3.03      ml  42.0  51.0  0.03341  0.20  uw  uw61167147   \n",
       "2  23.700  3.03      ml  41.0  37.0  0.18990  0.24  uw  uw61201937   \n",
       "3  22.480  2.96      ml  32.0  60.0  0.19470  0.22  uw  uw61272097   \n",
       "4  17.370  3.96      ml  53.0  40.0  0.17690  0.19  uw  uw61335997   \n",
       "\n",
       "                    updated                            place        type  \\\n",
       "0  2016-07-22T19:52:48.910Z      24 km WNW of Gaston, Oregon  earthquake   \n",
       "1  2016-09-17T01:27:47.040Z  Washington-Oregon border region  earthquake   \n",
       "2  2017-12-14T02:21:01.271Z     4 km WNW of Woodburn, Oregon  earthquake   \n",
       "3  2018-06-26T15:33:50.096Z        9 km NW of Keizer, Oregon  earthquake   \n",
       "4  2018-10-28T05:34:08.405Z   5 km E of Scotts Mills, Oregon  earthquake   \n",
       "\n",
       "   horizontalError  depthError  magError  magNst    status locationSource  \\\n",
       "0             0.28        0.68     0.173   146.0  reviewed             uw   \n",
       "1             0.23        0.41     0.178   134.0  reviewed             uw   \n",
       "2             0.30        0.96     0.111    27.0  reviewed             uw   \n",
       "3             0.30        0.98     0.125    22.0  reviewed             uw   \n",
       "4             0.22        0.82     0.210    28.0  reviewed             uw   \n",
       "\n",
       "  magSource  \n",
       "0        uw  \n",
       "1        uw  \n",
       "2        uw  \n",
       "3        uw  \n",
       "4        uw  "
      ]
     },
     "execution_count": 24,
     "metadata": {},
     "output_type": "execute_result"
    }
   ],
   "source": [
    "eng_product_merge.head()"
   ]
  },
  {
   "cell_type": "code",
   "execution_count": 25,
   "metadata": {},
   "outputs": [],
   "source": [
    "eng_product_merge.drop('time',axis=1,inplace=True)"
   ]
  },
  {
   "cell_type": "code",
   "execution_count": 26,
   "metadata": {},
   "outputs": [],
   "source": [
    "eng_product_merge = eng_product_merge.iloc[:,np.r_[1,3,4,5,8,9]]"
   ]
  },
  {
   "cell_type": "code",
   "execution_count": 27,
   "metadata": {
    "scrolled": true
   },
   "outputs": [
    {
     "data": {
      "text/html": [
       "<div>\n",
       "<style scoped>\n",
       "    .dataframe tbody tr th:only-of-type {\n",
       "        vertical-align: middle;\n",
       "    }\n",
       "\n",
       "    .dataframe tbody tr th {\n",
       "        vertical-align: top;\n",
       "    }\n",
       "\n",
       "    .dataframe thead th {\n",
       "        text-align: right;\n",
       "    }\n",
       "</style>\n",
       "<table border=\"1\" class=\"dataframe\">\n",
       "  <thead>\n",
       "    <tr style=\"text-align: right;\">\n",
       "      <th></th>\n",
       "      <th>landslide_trigger</th>\n",
       "      <th>latitude_x</th>\n",
       "      <th>longitude_x</th>\n",
       "      <th>landslide_size</th>\n",
       "      <th>depth</th>\n",
       "      <th>mag</th>\n",
       "    </tr>\n",
       "  </thead>\n",
       "  <tbody>\n",
       "    <tr>\n",
       "      <th>0</th>\n",
       "      <td>downpour</td>\n",
       "      <td>45.0</td>\n",
       "      <td>-123.0</td>\n",
       "      <td>small</td>\n",
       "      <td>51.602</td>\n",
       "      <td>3.13</td>\n",
       "    </tr>\n",
       "    <tr>\n",
       "      <th>1</th>\n",
       "      <td>downpour</td>\n",
       "      <td>45.0</td>\n",
       "      <td>-123.0</td>\n",
       "      <td>small</td>\n",
       "      <td>26.650</td>\n",
       "      <td>3.03</td>\n",
       "    </tr>\n",
       "    <tr>\n",
       "      <th>2</th>\n",
       "      <td>downpour</td>\n",
       "      <td>45.0</td>\n",
       "      <td>-123.0</td>\n",
       "      <td>small</td>\n",
       "      <td>23.700</td>\n",
       "      <td>3.03</td>\n",
       "    </tr>\n",
       "    <tr>\n",
       "      <th>3</th>\n",
       "      <td>downpour</td>\n",
       "      <td>45.0</td>\n",
       "      <td>-123.0</td>\n",
       "      <td>small</td>\n",
       "      <td>22.480</td>\n",
       "      <td>2.96</td>\n",
       "    </tr>\n",
       "    <tr>\n",
       "      <th>4</th>\n",
       "      <td>downpour</td>\n",
       "      <td>45.0</td>\n",
       "      <td>-123.0</td>\n",
       "      <td>small</td>\n",
       "      <td>17.370</td>\n",
       "      <td>3.96</td>\n",
       "    </tr>\n",
       "  </tbody>\n",
       "</table>\n",
       "</div>"
      ],
      "text/plain": [
       "  landslide_trigger  latitude_x  longitude_x landslide_size   depth   mag\n",
       "0          downpour        45.0       -123.0          small  51.602  3.13\n",
       "1          downpour        45.0       -123.0          small  26.650  3.03\n",
       "2          downpour        45.0       -123.0          small  23.700  3.03\n",
       "3          downpour        45.0       -123.0          small  22.480  2.96\n",
       "4          downpour        45.0       -123.0          small  17.370  3.96"
      ]
     },
     "execution_count": 27,
     "metadata": {},
     "output_type": "execute_result"
    }
   ],
   "source": [
    "eng_product_merge.head()"
   ]
  },
  {
   "cell_type": "code",
   "execution_count": 28,
   "metadata": {},
   "outputs": [
    {
     "data": {
      "text/plain": [
       "100732"
      ]
     },
     "execution_count": 28,
     "metadata": {},
     "output_type": "execute_result"
    }
   ],
   "source": [
    "eng_product_merge.duplicated().sum()"
   ]
  },
  {
   "cell_type": "code",
   "execution_count": 29,
   "metadata": {},
   "outputs": [],
   "source": [
    "eng_product_merge  = eng_product_merge.drop_duplicates()"
   ]
  },
  {
   "cell_type": "code",
   "execution_count": 30,
   "metadata": {},
   "outputs": [
    {
     "data": {
      "text/plain": [
       "(28278, 6)"
      ]
     },
     "execution_count": 30,
     "metadata": {},
     "output_type": "execute_result"
    }
   ],
   "source": [
    "eng_product_merge.shape"
   ]
  },
  {
   "cell_type": "code",
   "execution_count": 31,
   "metadata": {
    "scrolled": false
   },
   "outputs": [
    {
     "data": {
      "text/plain": [
       "landslide_trigger    0\n",
       "latitude_x           0\n",
       "longitude_x          0\n",
       "landslide_size       0\n",
       "depth                0\n",
       "mag                  0\n",
       "dtype: int64"
      ]
     },
     "execution_count": 31,
     "metadata": {},
     "output_type": "execute_result"
    }
   ],
   "source": [
    "eng_product_merge.isnull().sum()"
   ]
  },
  {
   "cell_type": "code",
   "execution_count": 32,
   "metadata": {},
   "outputs": [],
   "source": [
    "eng_product_merge['landslide_trigger'] = pd.get_dummies(eng_product_merge['landslide_trigger'])"
   ]
  },
  {
   "cell_type": "code",
   "execution_count": 33,
   "metadata": {},
   "outputs": [],
   "source": [
    "eng_product_merge['landslide_size'] = pd.get_dummies(eng_product_merge['landslide_size'])"
   ]
  },
  {
   "cell_type": "code",
   "execution_count": 34,
   "metadata": {
    "scrolled": true
   },
   "outputs": [],
   "source": [
    "eng_product_merge['landslide'] = np.where(eng_product_merge['mag'] < 2.8,0,1)"
   ]
  },
  {
   "cell_type": "code",
   "execution_count": 35,
   "metadata": {},
   "outputs": [],
   "source": [
    "eng_product_merge = eng_product_merge.rename(columns={'landslide_trigger': 'rain intensity','mag' : 'earthquakes magnitude'})"
   ]
  },
  {
   "cell_type": "code",
   "execution_count": 36,
   "metadata": {
    "scrolled": true
   },
   "outputs": [
    {
     "data": {
      "text/html": [
       "<div>\n",
       "<style scoped>\n",
       "    .dataframe tbody tr th:only-of-type {\n",
       "        vertical-align: middle;\n",
       "    }\n",
       "\n",
       "    .dataframe tbody tr th {\n",
       "        vertical-align: top;\n",
       "    }\n",
       "\n",
       "    .dataframe thead th {\n",
       "        text-align: right;\n",
       "    }\n",
       "</style>\n",
       "<table border=\"1\" class=\"dataframe\">\n",
       "  <thead>\n",
       "    <tr style=\"text-align: right;\">\n",
       "      <th></th>\n",
       "      <th>rain intensity</th>\n",
       "      <th>latitude_x</th>\n",
       "      <th>longitude_x</th>\n",
       "      <th>landslide_size</th>\n",
       "      <th>depth</th>\n",
       "      <th>earthquakes magnitude</th>\n",
       "      <th>landslide</th>\n",
       "    </tr>\n",
       "  </thead>\n",
       "  <tbody>\n",
       "    <tr>\n",
       "      <th>0</th>\n",
       "      <td>0</td>\n",
       "      <td>45.0</td>\n",
       "      <td>-123.0</td>\n",
       "      <td>0</td>\n",
       "      <td>51.602</td>\n",
       "      <td>3.13</td>\n",
       "      <td>1</td>\n",
       "    </tr>\n",
       "    <tr>\n",
       "      <th>1</th>\n",
       "      <td>0</td>\n",
       "      <td>45.0</td>\n",
       "      <td>-123.0</td>\n",
       "      <td>0</td>\n",
       "      <td>26.650</td>\n",
       "      <td>3.03</td>\n",
       "      <td>1</td>\n",
       "    </tr>\n",
       "    <tr>\n",
       "      <th>2</th>\n",
       "      <td>0</td>\n",
       "      <td>45.0</td>\n",
       "      <td>-123.0</td>\n",
       "      <td>0</td>\n",
       "      <td>23.700</td>\n",
       "      <td>3.03</td>\n",
       "      <td>1</td>\n",
       "    </tr>\n",
       "    <tr>\n",
       "      <th>3</th>\n",
       "      <td>0</td>\n",
       "      <td>45.0</td>\n",
       "      <td>-123.0</td>\n",
       "      <td>0</td>\n",
       "      <td>22.480</td>\n",
       "      <td>2.96</td>\n",
       "      <td>1</td>\n",
       "    </tr>\n",
       "    <tr>\n",
       "      <th>4</th>\n",
       "      <td>0</td>\n",
       "      <td>45.0</td>\n",
       "      <td>-123.0</td>\n",
       "      <td>0</td>\n",
       "      <td>17.370</td>\n",
       "      <td>3.96</td>\n",
       "      <td>1</td>\n",
       "    </tr>\n",
       "  </tbody>\n",
       "</table>\n",
       "</div>"
      ],
      "text/plain": [
       "   rain intensity  latitude_x  longitude_x  landslide_size   depth  \\\n",
       "0               0        45.0       -123.0               0  51.602   \n",
       "1               0        45.0       -123.0               0  26.650   \n",
       "2               0        45.0       -123.0               0  23.700   \n",
       "3               0        45.0       -123.0               0  22.480   \n",
       "4               0        45.0       -123.0               0  17.370   \n",
       "\n",
       "   earthquakes magnitude  landslide  \n",
       "0                   3.13          1  \n",
       "1                   3.03          1  \n",
       "2                   3.03          1  \n",
       "3                   2.96          1  \n",
       "4                   3.96          1  "
      ]
     },
     "execution_count": 36,
     "metadata": {},
     "output_type": "execute_result"
    }
   ],
   "source": [
    "eng_product_merge.head()"
   ]
  },
  {
   "cell_type": "code",
   "execution_count": 37,
   "metadata": {},
   "outputs": [
    {
     "data": {
      "text/plain": [
       "0    15215\n",
       "1    13063\n",
       "Name: landslide, dtype: int64"
      ]
     },
     "execution_count": 37,
     "metadata": {},
     "output_type": "execute_result"
    }
   ],
   "source": [
    "eng_product_merge['landslide'].value_counts()"
   ]
  },
  {
   "cell_type": "code",
   "execution_count": 38,
   "metadata": {},
   "outputs": [],
   "source": [
    "x = eng_product_merge.iloc[:,:-1]\n",
    "y = eng_product_merge.iloc[:,-1]"
   ]
  },
  {
   "cell_type": "code",
   "execution_count": 39,
   "metadata": {},
   "outputs": [],
   "source": [
    "X_train, X_test, y_train, y_test = train_test_split(x, y, test_size=0.33, random_state=42)"
   ]
  },
  {
   "cell_type": "code",
   "execution_count": 40,
   "metadata": {},
   "outputs": [
    {
     "data": {
      "text/plain": [
       "LGBMClassifier()"
      ]
     },
     "execution_count": 40,
     "metadata": {},
     "output_type": "execute_result"
    }
   ],
   "source": [
    "import lightgbm as lgb\n",
    "clf = lgb.LGBMClassifier()\n",
    "clf.fit(X_train, y_train)"
   ]
  },
  {
   "cell_type": "code",
   "execution_count": 41,
   "metadata": {},
   "outputs": [],
   "source": [
    "y_pred=clf.predict(X_test)"
   ]
  },
  {
   "cell_type": "code",
   "execution_count": 42,
   "metadata": {},
   "outputs": [
    {
     "name": "stdout",
     "output_type": "stream",
     "text": [
      "LightGBM Model accuracy score: 1.0000\n"
     ]
    }
   ],
   "source": [
    "from sklearn.metrics import accuracy_score\n",
    "accuracy=accuracy_score(y_pred, y_test)\n",
    "print('LightGBM Model accuracy score: {0:0.4f}'.format(accuracy_score(y_test, y_pred)))"
   ]
  },
  {
   "cell_type": "code",
   "execution_count": null,
   "metadata": {},
   "outputs": [],
   "source": []
  },
  {
   "cell_type": "code",
   "execution_count": null,
   "metadata": {},
   "outputs": [],
   "source": []
  }
 ],
 "metadata": {
  "kernelspec": {
   "display_name": "Python 3",
   "language": "python",
   "name": "python3"
  },
  "language_info": {
   "codemirror_mode": {
    "name": "ipython",
    "version": 3
   },
   "file_extension": ".py",
   "mimetype": "text/x-python",
   "name": "python",
   "nbconvert_exporter": "python",
   "pygments_lexer": "ipython3",
   "version": "3.8.3"
  }
 },
 "nbformat": 4,
 "nbformat_minor": 4
}
