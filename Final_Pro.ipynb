{
 "cells": [
  {
   "cell_type": "markdown",
   "metadata": {},
   "source": [
    "# Import libraries 📚"
   ]
  },
  {
   "cell_type": "code",
   "execution_count": 1,
   "metadata": {},
   "outputs": [],
   "source": [
    "# for modifying and manipulating the data\n",
    "import pandas as pd \n",
    "import numpy as np\n",
    "import glob\n",
    "\n",
    "pd.set_option('display.max_columns', None)\n",
    "\n",
    "# for visualization purposes\n",
    "import matplotlib.pyplot as plt\n",
    "import seaborn as sns"
   ]
  },
  {
   "cell_type": "markdown",
   "metadata": {},
   "source": [
    "# Earthquakes"
   ]
  },
  {
   "cell_type": "code",
   "execution_count": 2,
   "metadata": {},
   "outputs": [],
   "source": [
    "#collect all the data in the earthquakes file into one dataframe\n",
    "\n",
    "path = r'C:\\Users\\ibrah\\Downloads\\PR\\earthquakes' # use your path\n",
    "all_files = glob.glob(path + \"/*.csv\")\n",
    "\n",
    "li = []\n",
    "\n",
    "for filename in all_files:\n",
    "    df = pd.read_csv(filename, index_col=None, header=0)\n",
    "    li.append(df)\n",
    "\n",
    "earth = pd.concat(li, axis=0, ignore_index=True)"
   ]
  },
  {
   "cell_type": "code",
   "execution_count": 3,
   "metadata": {
    "scrolled": true
   },
   "outputs": [
    {
     "data": {
      "text/html": [
       "<div>\n",
       "<style scoped>\n",
       "    .dataframe tbody tr th:only-of-type {\n",
       "        vertical-align: middle;\n",
       "    }\n",
       "\n",
       "    .dataframe tbody tr th {\n",
       "        vertical-align: top;\n",
       "    }\n",
       "\n",
       "    .dataframe thead th {\n",
       "        text-align: right;\n",
       "    }\n",
       "</style>\n",
       "<table border=\"1\" class=\"dataframe\">\n",
       "  <thead>\n",
       "    <tr style=\"text-align: right;\">\n",
       "      <th></th>\n",
       "      <th>time</th>\n",
       "      <th>latitude</th>\n",
       "      <th>longitude</th>\n",
       "      <th>depth</th>\n",
       "      <th>mag</th>\n",
       "      <th>magType</th>\n",
       "      <th>nst</th>\n",
       "      <th>gap</th>\n",
       "      <th>dmin</th>\n",
       "      <th>rms</th>\n",
       "      <th>net</th>\n",
       "      <th>id</th>\n",
       "      <th>updated</th>\n",
       "      <th>place</th>\n",
       "      <th>type</th>\n",
       "      <th>horizontalError</th>\n",
       "      <th>depthError</th>\n",
       "      <th>magError</th>\n",
       "      <th>magNst</th>\n",
       "      <th>status</th>\n",
       "      <th>locationSource</th>\n",
       "      <th>magSource</th>\n",
       "    </tr>\n",
       "  </thead>\n",
       "  <tbody>\n",
       "    <tr>\n",
       "      <th>0</th>\n",
       "      <td>2020-05-02T23:49:13.744Z</td>\n",
       "      <td>43.153200</td>\n",
       "      <td>17.982800</td>\n",
       "      <td>10.00</td>\n",
       "      <td>3.30</td>\n",
       "      <td>ml</td>\n",
       "      <td>NaN</td>\n",
       "      <td>43.0</td>\n",
       "      <td>1.18600</td>\n",
       "      <td>0.58</td>\n",
       "      <td>us</td>\n",
       "      <td>us700099gx</td>\n",
       "      <td>2020-07-18T21:57:32.040Z</td>\n",
       "      <td>7 km NNE of Stolac, Bosnia and Herzegovina</td>\n",
       "      <td>earthquake</td>\n",
       "      <td>5.10</td>\n",
       "      <td>2.00</td>\n",
       "      <td>0.056</td>\n",
       "      <td>42.0</td>\n",
       "      <td>reviewed</td>\n",
       "      <td>us</td>\n",
       "      <td>us</td>\n",
       "    </tr>\n",
       "    <tr>\n",
       "      <th>1</th>\n",
       "      <td>2020-05-02T23:44:37.050Z</td>\n",
       "      <td>32.755333</td>\n",
       "      <td>-115.430667</td>\n",
       "      <td>16.91</td>\n",
       "      <td>3.58</td>\n",
       "      <td>ml</td>\n",
       "      <td>82.0</td>\n",
       "      <td>36.0</td>\n",
       "      <td>0.05166</td>\n",
       "      <td>0.30</td>\n",
       "      <td>ci</td>\n",
       "      <td>ci38477458</td>\n",
       "      <td>2020-07-18T21:57:14.040Z</td>\n",
       "      <td>8km SW of Holtville, CA</td>\n",
       "      <td>earthquake</td>\n",
       "      <td>0.22</td>\n",
       "      <td>0.41</td>\n",
       "      <td>0.123</td>\n",
       "      <td>179.0</td>\n",
       "      <td>reviewed</td>\n",
       "      <td>ci</td>\n",
       "      <td>ci</td>\n",
       "    </tr>\n",
       "    <tr>\n",
       "      <th>2</th>\n",
       "      <td>2020-05-02T23:35:46.541Z</td>\n",
       "      <td>-17.702500</td>\n",
       "      <td>167.301800</td>\n",
       "      <td>10.00</td>\n",
       "      <td>4.60</td>\n",
       "      <td>mb</td>\n",
       "      <td>NaN</td>\n",
       "      <td>151.0</td>\n",
       "      <td>2.24400</td>\n",
       "      <td>0.91</td>\n",
       "      <td>us</td>\n",
       "      <td>us70009bsc</td>\n",
       "      <td>2020-07-18T21:57:44.040Z</td>\n",
       "      <td>107 km W of Port-Vila, Vanuatu</td>\n",
       "      <td>earthquake</td>\n",
       "      <td>5.80</td>\n",
       "      <td>1.90</td>\n",
       "      <td>0.102</td>\n",
       "      <td>29.0</td>\n",
       "      <td>reviewed</td>\n",
       "      <td>us</td>\n",
       "      <td>us</td>\n",
       "    </tr>\n",
       "    <tr>\n",
       "      <th>3</th>\n",
       "      <td>2020-05-02T23:26:49.070Z</td>\n",
       "      <td>17.941300</td>\n",
       "      <td>-66.643600</td>\n",
       "      <td>7.00</td>\n",
       "      <td>2.73</td>\n",
       "      <td>md</td>\n",
       "      <td>20.0</td>\n",
       "      <td>188.0</td>\n",
       "      <td>0.10820</td>\n",
       "      <td>0.16</td>\n",
       "      <td>pr</td>\n",
       "      <td>pr2020123043</td>\n",
       "      <td>2020-05-04T02:02:14.448Z</td>\n",
       "      <td>7 km SSW of Ponce, Puerto Rico</td>\n",
       "      <td>earthquake</td>\n",
       "      <td>0.55</td>\n",
       "      <td>0.28</td>\n",
       "      <td>0.150</td>\n",
       "      <td>12.0</td>\n",
       "      <td>reviewed</td>\n",
       "      <td>pr</td>\n",
       "      <td>pr</td>\n",
       "    </tr>\n",
       "    <tr>\n",
       "      <th>4</th>\n",
       "      <td>2020-05-02T22:24:49.290Z</td>\n",
       "      <td>19.309100</td>\n",
       "      <td>-67.389000</td>\n",
       "      <td>51.00</td>\n",
       "      <td>3.55</td>\n",
       "      <td>md</td>\n",
       "      <td>22.0</td>\n",
       "      <td>291.0</td>\n",
       "      <td>0.88630</td>\n",
       "      <td>0.33</td>\n",
       "      <td>pr</td>\n",
       "      <td>pr2020123028</td>\n",
       "      <td>2020-07-18T21:57:14.040Z</td>\n",
       "      <td>95 km NNW of San Antonio, Puerto Rico</td>\n",
       "      <td>earthquake</td>\n",
       "      <td>2.09</td>\n",
       "      <td>7.13</td>\n",
       "      <td>0.120</td>\n",
       "      <td>18.0</td>\n",
       "      <td>reviewed</td>\n",
       "      <td>pr</td>\n",
       "      <td>pr</td>\n",
       "    </tr>\n",
       "  </tbody>\n",
       "</table>\n",
       "</div>"
      ],
      "text/plain": [
       "                       time   latitude   longitude  depth   mag magType   nst  \\\n",
       "0  2020-05-02T23:49:13.744Z  43.153200   17.982800  10.00  3.30      ml   NaN   \n",
       "1  2020-05-02T23:44:37.050Z  32.755333 -115.430667  16.91  3.58      ml  82.0   \n",
       "2  2020-05-02T23:35:46.541Z -17.702500  167.301800  10.00  4.60      mb   NaN   \n",
       "3  2020-05-02T23:26:49.070Z  17.941300  -66.643600   7.00  2.73      md  20.0   \n",
       "4  2020-05-02T22:24:49.290Z  19.309100  -67.389000  51.00  3.55      md  22.0   \n",
       "\n",
       "     gap     dmin   rms net            id                   updated  \\\n",
       "0   43.0  1.18600  0.58  us    us700099gx  2020-07-18T21:57:32.040Z   \n",
       "1   36.0  0.05166  0.30  ci    ci38477458  2020-07-18T21:57:14.040Z   \n",
       "2  151.0  2.24400  0.91  us    us70009bsc  2020-07-18T21:57:44.040Z   \n",
       "3  188.0  0.10820  0.16  pr  pr2020123043  2020-05-04T02:02:14.448Z   \n",
       "4  291.0  0.88630  0.33  pr  pr2020123028  2020-07-18T21:57:14.040Z   \n",
       "\n",
       "                                        place        type  horizontalError  \\\n",
       "0  7 km NNE of Stolac, Bosnia and Herzegovina  earthquake             5.10   \n",
       "1                     8km SW of Holtville, CA  earthquake             0.22   \n",
       "2              107 km W of Port-Vila, Vanuatu  earthquake             5.80   \n",
       "3              7 km SSW of Ponce, Puerto Rico  earthquake             0.55   \n",
       "4       95 km NNW of San Antonio, Puerto Rico  earthquake             2.09   \n",
       "\n",
       "   depthError  magError  magNst    status locationSource magSource  \n",
       "0        2.00     0.056    42.0  reviewed             us        us  \n",
       "1        0.41     0.123   179.0  reviewed             ci        ci  \n",
       "2        1.90     0.102    29.0  reviewed             us        us  \n",
       "3        0.28     0.150    12.0  reviewed             pr        pr  \n",
       "4        7.13     0.120    18.0  reviewed             pr        pr  "
      ]
     },
     "execution_count": 3,
     "metadata": {},
     "output_type": "execute_result"
    }
   ],
   "source": [
    "earth.head()"
   ]
  },
  {
   "cell_type": "markdown",
   "metadata": {},
   "source": [
    "Get the shape of the data"
   ]
  },
  {
   "cell_type": "code",
   "execution_count": 4,
   "metadata": {
    "scrolled": true
   },
   "outputs": [
    {
     "data": {
      "text/plain": [
       "(207058, 22)"
      ]
     },
     "execution_count": 4,
     "metadata": {},
     "output_type": "execute_result"
    }
   ],
   "source": [
    "earth.shape"
   ]
  },
  {
   "cell_type": "markdown",
   "metadata": {},
   "source": [
    "Getting more info about the data"
   ]
  },
  {
   "cell_type": "code",
   "execution_count": 5,
   "metadata": {
    "scrolled": false
   },
   "outputs": [
    {
     "name": "stdout",
     "output_type": "stream",
     "text": [
      "<class 'pandas.core.frame.DataFrame'>\n",
      "RangeIndex: 207058 entries, 0 to 207057\n",
      "Data columns (total 22 columns):\n",
      " #   Column           Non-Null Count   Dtype  \n",
      "---  ------           --------------   -----  \n",
      " 0   time             207058 non-null  object \n",
      " 1   latitude         207058 non-null  float64\n",
      " 2   longitude        207058 non-null  float64\n",
      " 3   depth            207058 non-null  float64\n",
      " 4   mag              207058 non-null  float64\n",
      " 5   magType          207057 non-null  object \n",
      " 6   nst              53767 non-null   float64\n",
      " 7   gap              185764 non-null  float64\n",
      " 8   dmin             177065 non-null  float64\n",
      " 9   rms              207045 non-null  float64\n",
      " 10  net              207058 non-null  object \n",
      " 11  id               207058 non-null  object \n",
      " 12  updated          207058 non-null  object \n",
      " 13  place            207035 non-null  object \n",
      " 14  type             207058 non-null  object \n",
      " 15  horizontalError  188158 non-null  float64\n",
      " 16  depthError       207043 non-null  float64\n",
      " 17  magError         173966 non-null  float64\n",
      " 18  magNst           176674 non-null  float64\n",
      " 19  status           207058 non-null  object \n",
      " 20  locationSource   207058 non-null  object \n",
      " 21  magSource        207058 non-null  object \n",
      "dtypes: float64(12), object(10)\n",
      "memory usage: 34.8+ MB\n"
     ]
    }
   ],
   "source": [
    "earth.info()"
   ]
  },
  {
   "cell_type": "markdown",
   "metadata": {},
   "source": [
    "Convert time to column into time dataframe"
   ]
  },
  {
   "cell_type": "code",
   "execution_count": 6,
   "metadata": {},
   "outputs": [],
   "source": [
    "earth['time'] = pd.to_datetime(earth['time'])"
   ]
  },
  {
   "cell_type": "markdown",
   "metadata": {},
   "source": [
    "Sort the data by the time"
   ]
  },
  {
   "cell_type": "code",
   "execution_count": 7,
   "metadata": {
    "scrolled": false
   },
   "outputs": [
    {
     "data": {
      "text/html": [
       "<div>\n",
       "<style scoped>\n",
       "    .dataframe tbody tr th:only-of-type {\n",
       "        vertical-align: middle;\n",
       "    }\n",
       "\n",
       "    .dataframe tbody tr th {\n",
       "        vertical-align: top;\n",
       "    }\n",
       "\n",
       "    .dataframe thead th {\n",
       "        text-align: right;\n",
       "    }\n",
       "</style>\n",
       "<table border=\"1\" class=\"dataframe\">\n",
       "  <thead>\n",
       "    <tr style=\"text-align: right;\">\n",
       "      <th></th>\n",
       "      <th>time</th>\n",
       "      <th>latitude</th>\n",
       "      <th>longitude</th>\n",
       "      <th>depth</th>\n",
       "      <th>mag</th>\n",
       "      <th>magType</th>\n",
       "      <th>nst</th>\n",
       "      <th>gap</th>\n",
       "      <th>dmin</th>\n",
       "      <th>rms</th>\n",
       "      <th>net</th>\n",
       "      <th>id</th>\n",
       "      <th>updated</th>\n",
       "      <th>place</th>\n",
       "      <th>type</th>\n",
       "      <th>horizontalError</th>\n",
       "      <th>depthError</th>\n",
       "      <th>magError</th>\n",
       "      <th>magNst</th>\n",
       "      <th>status</th>\n",
       "      <th>locationSource</th>\n",
       "      <th>magSource</th>\n",
       "    </tr>\n",
       "  </thead>\n",
       "  <tbody>\n",
       "    <tr>\n",
       "      <th>33613</th>\n",
       "      <td>2014-10-02 00:13:39.470000+00:00</td>\n",
       "      <td>-21.1000</td>\n",
       "      <td>-174.4863</td>\n",
       "      <td>10.00</td>\n",
       "      <td>5.0</td>\n",
       "      <td>mb</td>\n",
       "      <td>NaN</td>\n",
       "      <td>76.0</td>\n",
       "      <td>17.764</td>\n",
       "      <td>0.42</td>\n",
       "      <td>us</td>\n",
       "      <td>usb000si16</td>\n",
       "      <td>2014-12-23T01:41:57.040Z</td>\n",
       "      <td>54 km ENE of ‘Ohonua, Tonga</td>\n",
       "      <td>earthquake</td>\n",
       "      <td>10.3</td>\n",
       "      <td>1.7</td>\n",
       "      <td>0.055</td>\n",
       "      <td>111.0</td>\n",
       "      <td>reviewed</td>\n",
       "      <td>us</td>\n",
       "      <td>us</td>\n",
       "    </tr>\n",
       "    <tr>\n",
       "      <th>33612</th>\n",
       "      <td>2014-10-02 00:37:01.600000+00:00</td>\n",
       "      <td>64.5978</td>\n",
       "      <td>-17.6197</td>\n",
       "      <td>8.27</td>\n",
       "      <td>4.9</td>\n",
       "      <td>mb</td>\n",
       "      <td>NaN</td>\n",
       "      <td>63.0</td>\n",
       "      <td>1.601</td>\n",
       "      <td>0.45</td>\n",
       "      <td>us</td>\n",
       "      <td>usb000si1b</td>\n",
       "      <td>2014-12-23T01:41:57.040Z</td>\n",
       "      <td>122 km WNW of Höfn, Iceland</td>\n",
       "      <td>earthquake</td>\n",
       "      <td>6.7</td>\n",
       "      <td>3.8</td>\n",
       "      <td>0.045</td>\n",
       "      <td>163.0</td>\n",
       "      <td>reviewed</td>\n",
       "      <td>us</td>\n",
       "      <td>us</td>\n",
       "    </tr>\n",
       "    <tr>\n",
       "      <th>33611</th>\n",
       "      <td>2014-10-02 00:53:40.180000+00:00</td>\n",
       "      <td>-24.2301</td>\n",
       "      <td>-179.8368</td>\n",
       "      <td>512.78</td>\n",
       "      <td>4.2</td>\n",
       "      <td>mb</td>\n",
       "      <td>NaN</td>\n",
       "      <td>104.0</td>\n",
       "      <td>5.277</td>\n",
       "      <td>0.80</td>\n",
       "      <td>us</td>\n",
       "      <td>usb000slzq</td>\n",
       "      <td>2014-12-23T01:41:57.040Z</td>\n",
       "      <td>south of the Fiji Islands</td>\n",
       "      <td>earthquake</td>\n",
       "      <td>15.4</td>\n",
       "      <td>9.5</td>\n",
       "      <td>0.112</td>\n",
       "      <td>23.0</td>\n",
       "      <td>reviewed</td>\n",
       "      <td>us</td>\n",
       "      <td>us</td>\n",
       "    </tr>\n",
       "    <tr>\n",
       "      <th>33610</th>\n",
       "      <td>2014-10-02 01:20:00.100000+00:00</td>\n",
       "      <td>36.1799</td>\n",
       "      <td>-97.2545</td>\n",
       "      <td>5.00</td>\n",
       "      <td>2.8</td>\n",
       "      <td>ml</td>\n",
       "      <td>NaN</td>\n",
       "      <td>57.0</td>\n",
       "      <td>NaN</td>\n",
       "      <td>0.45</td>\n",
       "      <td>us</td>\n",
       "      <td>usb000si1g</td>\n",
       "      <td>2014-12-23T01:41:57.040Z</td>\n",
       "      <td>11 km ENE of Orlando, Oklahoma</td>\n",
       "      <td>earthquake</td>\n",
       "      <td>1.4</td>\n",
       "      <td>2.0</td>\n",
       "      <td>NaN</td>\n",
       "      <td>NaN</td>\n",
       "      <td>reviewed</td>\n",
       "      <td>tul</td>\n",
       "      <td>tul</td>\n",
       "    </tr>\n",
       "    <tr>\n",
       "      <th>33609</th>\n",
       "      <td>2014-10-02 01:27:22.060000+00:00</td>\n",
       "      <td>-24.5057</td>\n",
       "      <td>-179.9794</td>\n",
       "      <td>524.26</td>\n",
       "      <td>4.5</td>\n",
       "      <td>mb</td>\n",
       "      <td>NaN</td>\n",
       "      <td>118.0</td>\n",
       "      <td>6.973</td>\n",
       "      <td>0.76</td>\n",
       "      <td>us</td>\n",
       "      <td>usb000si24</td>\n",
       "      <td>2014-12-23T01:41:57.040Z</td>\n",
       "      <td>south of the Fiji Islands</td>\n",
       "      <td>earthquake</td>\n",
       "      <td>13.3</td>\n",
       "      <td>8.1</td>\n",
       "      <td>0.098</td>\n",
       "      <td>32.0</td>\n",
       "      <td>reviewed</td>\n",
       "      <td>us</td>\n",
       "      <td>us</td>\n",
       "    </tr>\n",
       "  </tbody>\n",
       "</table>\n",
       "</div>"
      ],
      "text/plain": [
       "                                  time  latitude  longitude   depth  mag  \\\n",
       "33613 2014-10-02 00:13:39.470000+00:00  -21.1000  -174.4863   10.00  5.0   \n",
       "33612 2014-10-02 00:37:01.600000+00:00   64.5978   -17.6197    8.27  4.9   \n",
       "33611 2014-10-02 00:53:40.180000+00:00  -24.2301  -179.8368  512.78  4.2   \n",
       "33610 2014-10-02 01:20:00.100000+00:00   36.1799   -97.2545    5.00  2.8   \n",
       "33609 2014-10-02 01:27:22.060000+00:00  -24.5057  -179.9794  524.26  4.5   \n",
       "\n",
       "      magType  nst    gap    dmin   rms net          id  \\\n",
       "33613      mb  NaN   76.0  17.764  0.42  us  usb000si16   \n",
       "33612      mb  NaN   63.0   1.601  0.45  us  usb000si1b   \n",
       "33611      mb  NaN  104.0   5.277  0.80  us  usb000slzq   \n",
       "33610      ml  NaN   57.0     NaN  0.45  us  usb000si1g   \n",
       "33609      mb  NaN  118.0   6.973  0.76  us  usb000si24   \n",
       "\n",
       "                        updated                           place        type  \\\n",
       "33613  2014-12-23T01:41:57.040Z     54 km ENE of ‘Ohonua, Tonga  earthquake   \n",
       "33612  2014-12-23T01:41:57.040Z     122 km WNW of Höfn, Iceland  earthquake   \n",
       "33611  2014-12-23T01:41:57.040Z       south of the Fiji Islands  earthquake   \n",
       "33610  2014-12-23T01:41:57.040Z  11 km ENE of Orlando, Oklahoma  earthquake   \n",
       "33609  2014-12-23T01:41:57.040Z       south of the Fiji Islands  earthquake   \n",
       "\n",
       "       horizontalError  depthError  magError  magNst    status locationSource  \\\n",
       "33613             10.3         1.7     0.055   111.0  reviewed             us   \n",
       "33612              6.7         3.8     0.045   163.0  reviewed             us   \n",
       "33611             15.4         9.5     0.112    23.0  reviewed             us   \n",
       "33610              1.4         2.0       NaN     NaN  reviewed            tul   \n",
       "33609             13.3         8.1     0.098    32.0  reviewed             us   \n",
       "\n",
       "      magSource  \n",
       "33613        us  \n",
       "33612        us  \n",
       "33611        us  \n",
       "33610       tul  \n",
       "33609        us  "
      ]
     },
     "execution_count": 7,
     "metadata": {},
     "output_type": "execute_result"
    }
   ],
   "source": [
    "earth=earth.sort_values(by='time')\n",
    "earth.head()"
   ]
  },
  {
   "cell_type": "markdown",
   "metadata": {},
   "source": [
    "Investigating the NaNs"
   ]
  },
  {
   "cell_type": "code",
   "execution_count": 8,
   "metadata": {
    "scrolled": false
   },
   "outputs": [
    {
     "data": {
      "text/plain": [
       "time                    0\n",
       "latitude                0\n",
       "longitude               0\n",
       "depth                   0\n",
       "mag                     0\n",
       "magType                 1\n",
       "nst                153291\n",
       "gap                 21294\n",
       "dmin                29993\n",
       "rms                    13\n",
       "net                     0\n",
       "id                      0\n",
       "updated                 0\n",
       "place                  23\n",
       "type                    0\n",
       "horizontalError     18900\n",
       "depthError             15\n",
       "magError            33092\n",
       "magNst              30384\n",
       "status                  0\n",
       "locationSource          0\n",
       "magSource               0\n",
       "dtype: int64"
      ]
     },
     "execution_count": 8,
     "metadata": {},
     "output_type": "execute_result"
    }
   ],
   "source": [
    "earth.isnull().sum()"
   ]
  },
  {
   "cell_type": "markdown",
   "metadata": {},
   "source": [
    "As shown above columns [nst - gap - dmin - horizontalError - magError - magNst] will be dropped because of the Nan values"
   ]
  },
  {
   "cell_type": "code",
   "execution_count": 9,
   "metadata": {},
   "outputs": [],
   "source": [
    "earth.drop(['nst','gap','dmin','horizontalError','magError','magNst'],axis=1,inplace=True)"
   ]
  },
  {
   "cell_type": "code",
   "execution_count": 10,
   "metadata": {
    "scrolled": true
   },
   "outputs": [
    {
     "data": {
      "text/plain": [
       "time               0\n",
       "latitude           0\n",
       "longitude          0\n",
       "depth              0\n",
       "mag                0\n",
       "magType            1\n",
       "rms               13\n",
       "net                0\n",
       "id                 0\n",
       "updated            0\n",
       "place             23\n",
       "type               0\n",
       "depthError        15\n",
       "status             0\n",
       "locationSource     0\n",
       "magSource          0\n",
       "dtype: int64"
      ]
     },
     "execution_count": 10,
     "metadata": {},
     "output_type": "execute_result"
    }
   ],
   "source": [
    "earth.isnull().sum()"
   ]
  },
  {
   "cell_type": "markdown",
   "metadata": {},
   "source": [
    "Drop Nan Values"
   ]
  },
  {
   "cell_type": "code",
   "execution_count": 11,
   "metadata": {},
   "outputs": [],
   "source": [
    "earth.dropna(inplace=True)"
   ]
  },
  {
   "cell_type": "code",
   "execution_count": 12,
   "metadata": {
    "scrolled": true
   },
   "outputs": [
    {
     "data": {
      "text/plain": [
       "time              0\n",
       "latitude          0\n",
       "longitude         0\n",
       "depth             0\n",
       "mag               0\n",
       "magType           0\n",
       "rms               0\n",
       "net               0\n",
       "id                0\n",
       "updated           0\n",
       "place             0\n",
       "type              0\n",
       "depthError        0\n",
       "status            0\n",
       "locationSource    0\n",
       "magSource         0\n",
       "dtype: int64"
      ]
     },
     "execution_count": 12,
     "metadata": {},
     "output_type": "execute_result"
    }
   ],
   "source": [
    "earth.isnull().sum()"
   ]
  },
  {
   "cell_type": "markdown",
   "metadata": {},
   "source": [
    "Check the duplicates"
   ]
  },
  {
   "cell_type": "code",
   "execution_count": 13,
   "metadata": {
    "scrolled": true
   },
   "outputs": [
    {
     "data": {
      "text/plain": [
       "1257"
      ]
     },
     "execution_count": 13,
     "metadata": {},
     "output_type": "execute_result"
    }
   ],
   "source": [
    "earth.duplicated().sum()"
   ]
  },
  {
   "cell_type": "markdown",
   "metadata": {},
   "source": [
    "Drop Duplicates"
   ]
  },
  {
   "cell_type": "code",
   "execution_count": 14,
   "metadata": {},
   "outputs": [],
   "source": [
    "earth.drop_duplicates(inplace=True)"
   ]
  },
  {
   "cell_type": "code",
   "execution_count": 15,
   "metadata": {
    "scrolled": true
   },
   "outputs": [
    {
     "data": {
      "text/plain": [
       "0"
      ]
     },
     "execution_count": 15,
     "metadata": {},
     "output_type": "execute_result"
    }
   ],
   "source": [
    "earth.duplicated().sum()"
   ]
  },
  {
   "cell_type": "markdown",
   "metadata": {},
   "source": [
    "Get Data info"
   ]
  },
  {
   "cell_type": "code",
   "execution_count": 16,
   "metadata": {
    "scrolled": false
   },
   "outputs": [
    {
     "name": "stdout",
     "output_type": "stream",
     "text": [
      "<class 'pandas.core.frame.DataFrame'>\n",
      "Int64Index: 205757 entries, 33613 to 179784\n",
      "Data columns (total 16 columns):\n",
      " #   Column          Non-Null Count   Dtype              \n",
      "---  ------          --------------   -----              \n",
      " 0   time            205757 non-null  datetime64[ns, UTC]\n",
      " 1   latitude        205757 non-null  float64            \n",
      " 2   longitude       205757 non-null  float64            \n",
      " 3   depth           205757 non-null  float64            \n",
      " 4   mag             205757 non-null  float64            \n",
      " 5   magType         205757 non-null  object             \n",
      " 6   rms             205757 non-null  float64            \n",
      " 7   net             205757 non-null  object             \n",
      " 8   id              205757 non-null  object             \n",
      " 9   updated         205757 non-null  object             \n",
      " 10  place           205757 non-null  object             \n",
      " 11  type            205757 non-null  object             \n",
      " 12  depthError      205757 non-null  float64            \n",
      " 13  status          205757 non-null  object             \n",
      " 14  locationSource  205757 non-null  object             \n",
      " 15  magSource       205757 non-null  object             \n",
      "dtypes: datetime64[ns, UTC](1), float64(6), object(9)\n",
      "memory usage: 26.7+ MB\n"
     ]
    }
   ],
   "source": [
    "earth.info()"
   ]
  },
  {
   "cell_type": "code",
   "execution_count": 17,
   "metadata": {
    "scrolled": false
   },
   "outputs": [
    {
     "data": {
      "text/html": [
       "<div>\n",
       "<style scoped>\n",
       "    .dataframe tbody tr th:only-of-type {\n",
       "        vertical-align: middle;\n",
       "    }\n",
       "\n",
       "    .dataframe tbody tr th {\n",
       "        vertical-align: top;\n",
       "    }\n",
       "\n",
       "    .dataframe thead th {\n",
       "        text-align: right;\n",
       "    }\n",
       "</style>\n",
       "<table border=\"1\" class=\"dataframe\">\n",
       "  <thead>\n",
       "    <tr style=\"text-align: right;\">\n",
       "      <th></th>\n",
       "      <th>time</th>\n",
       "      <th>latitude</th>\n",
       "      <th>longitude</th>\n",
       "      <th>depth</th>\n",
       "      <th>mag</th>\n",
       "      <th>magType</th>\n",
       "      <th>rms</th>\n",
       "      <th>net</th>\n",
       "      <th>id</th>\n",
       "      <th>updated</th>\n",
       "      <th>place</th>\n",
       "      <th>type</th>\n",
       "      <th>depthError</th>\n",
       "      <th>status</th>\n",
       "      <th>locationSource</th>\n",
       "      <th>magSource</th>\n",
       "    </tr>\n",
       "  </thead>\n",
       "  <tbody>\n",
       "    <tr>\n",
       "      <th>33613</th>\n",
       "      <td>2014-10-02 00:13:39.470000+00:00</td>\n",
       "      <td>-21.1000</td>\n",
       "      <td>-174.4863</td>\n",
       "      <td>10.00</td>\n",
       "      <td>5.0</td>\n",
       "      <td>mb</td>\n",
       "      <td>0.42</td>\n",
       "      <td>us</td>\n",
       "      <td>usb000si16</td>\n",
       "      <td>2014-12-23T01:41:57.040Z</td>\n",
       "      <td>54 km ENE of ‘Ohonua, Tonga</td>\n",
       "      <td>earthquake</td>\n",
       "      <td>1.7</td>\n",
       "      <td>reviewed</td>\n",
       "      <td>us</td>\n",
       "      <td>us</td>\n",
       "    </tr>\n",
       "    <tr>\n",
       "      <th>33612</th>\n",
       "      <td>2014-10-02 00:37:01.600000+00:00</td>\n",
       "      <td>64.5978</td>\n",
       "      <td>-17.6197</td>\n",
       "      <td>8.27</td>\n",
       "      <td>4.9</td>\n",
       "      <td>mb</td>\n",
       "      <td>0.45</td>\n",
       "      <td>us</td>\n",
       "      <td>usb000si1b</td>\n",
       "      <td>2014-12-23T01:41:57.040Z</td>\n",
       "      <td>122 km WNW of Höfn, Iceland</td>\n",
       "      <td>earthquake</td>\n",
       "      <td>3.8</td>\n",
       "      <td>reviewed</td>\n",
       "      <td>us</td>\n",
       "      <td>us</td>\n",
       "    </tr>\n",
       "    <tr>\n",
       "      <th>33611</th>\n",
       "      <td>2014-10-02 00:53:40.180000+00:00</td>\n",
       "      <td>-24.2301</td>\n",
       "      <td>-179.8368</td>\n",
       "      <td>512.78</td>\n",
       "      <td>4.2</td>\n",
       "      <td>mb</td>\n",
       "      <td>0.80</td>\n",
       "      <td>us</td>\n",
       "      <td>usb000slzq</td>\n",
       "      <td>2014-12-23T01:41:57.040Z</td>\n",
       "      <td>south of the Fiji Islands</td>\n",
       "      <td>earthquake</td>\n",
       "      <td>9.5</td>\n",
       "      <td>reviewed</td>\n",
       "      <td>us</td>\n",
       "      <td>us</td>\n",
       "    </tr>\n",
       "    <tr>\n",
       "      <th>33610</th>\n",
       "      <td>2014-10-02 01:20:00.100000+00:00</td>\n",
       "      <td>36.1799</td>\n",
       "      <td>-97.2545</td>\n",
       "      <td>5.00</td>\n",
       "      <td>2.8</td>\n",
       "      <td>ml</td>\n",
       "      <td>0.45</td>\n",
       "      <td>us</td>\n",
       "      <td>usb000si1g</td>\n",
       "      <td>2014-12-23T01:41:57.040Z</td>\n",
       "      <td>11 km ENE of Orlando, Oklahoma</td>\n",
       "      <td>earthquake</td>\n",
       "      <td>2.0</td>\n",
       "      <td>reviewed</td>\n",
       "      <td>tul</td>\n",
       "      <td>tul</td>\n",
       "    </tr>\n",
       "    <tr>\n",
       "      <th>33609</th>\n",
       "      <td>2014-10-02 01:27:22.060000+00:00</td>\n",
       "      <td>-24.5057</td>\n",
       "      <td>-179.9794</td>\n",
       "      <td>524.26</td>\n",
       "      <td>4.5</td>\n",
       "      <td>mb</td>\n",
       "      <td>0.76</td>\n",
       "      <td>us</td>\n",
       "      <td>usb000si24</td>\n",
       "      <td>2014-12-23T01:41:57.040Z</td>\n",
       "      <td>south of the Fiji Islands</td>\n",
       "      <td>earthquake</td>\n",
       "      <td>8.1</td>\n",
       "      <td>reviewed</td>\n",
       "      <td>us</td>\n",
       "      <td>us</td>\n",
       "    </tr>\n",
       "  </tbody>\n",
       "</table>\n",
       "</div>"
      ],
      "text/plain": [
       "                                  time  latitude  longitude   depth  mag  \\\n",
       "33613 2014-10-02 00:13:39.470000+00:00  -21.1000  -174.4863   10.00  5.0   \n",
       "33612 2014-10-02 00:37:01.600000+00:00   64.5978   -17.6197    8.27  4.9   \n",
       "33611 2014-10-02 00:53:40.180000+00:00  -24.2301  -179.8368  512.78  4.2   \n",
       "33610 2014-10-02 01:20:00.100000+00:00   36.1799   -97.2545    5.00  2.8   \n",
       "33609 2014-10-02 01:27:22.060000+00:00  -24.5057  -179.9794  524.26  4.5   \n",
       "\n",
       "      magType   rms net          id                   updated  \\\n",
       "33613      mb  0.42  us  usb000si16  2014-12-23T01:41:57.040Z   \n",
       "33612      mb  0.45  us  usb000si1b  2014-12-23T01:41:57.040Z   \n",
       "33611      mb  0.80  us  usb000slzq  2014-12-23T01:41:57.040Z   \n",
       "33610      ml  0.45  us  usb000si1g  2014-12-23T01:41:57.040Z   \n",
       "33609      mb  0.76  us  usb000si24  2014-12-23T01:41:57.040Z   \n",
       "\n",
       "                                place        type  depthError    status  \\\n",
       "33613     54 km ENE of ‘Ohonua, Tonga  earthquake         1.7  reviewed   \n",
       "33612     122 km WNW of Höfn, Iceland  earthquake         3.8  reviewed   \n",
       "33611       south of the Fiji Islands  earthquake         9.5  reviewed   \n",
       "33610  11 km ENE of Orlando, Oklahoma  earthquake         2.0  reviewed   \n",
       "33609       south of the Fiji Islands  earthquake         8.1  reviewed   \n",
       "\n",
       "      locationSource magSource  \n",
       "33613             us        us  \n",
       "33612             us        us  \n",
       "33611             us        us  \n",
       "33610            tul       tul  \n",
       "33609             us        us  "
      ]
     },
     "execution_count": 17,
     "metadata": {},
     "output_type": "execute_result"
    }
   ],
   "source": [
    "earth.head()"
   ]
  },
  {
   "cell_type": "markdown",
   "metadata": {},
   "source": [
    "According to our Goals there is columns [Time - id - updated - status - locationSource\t- magSource] will be dropped"
   ]
  },
  {
   "cell_type": "code",
   "execution_count": 18,
   "metadata": {},
   "outputs": [],
   "source": [
    "earth.drop(['time','updated','id','status','locationSource','magSource'],axis=1,inplace=True)"
   ]
  },
  {
   "cell_type": "markdown",
   "metadata": {},
   "source": [
    "Trying to convert (latitude - longitude ) to int to be able to merge with rain dataframe according to (latitude , longitude )"
   ]
  },
  {
   "cell_type": "code",
   "execution_count": 19,
   "metadata": {},
   "outputs": [],
   "source": [
    "earth['latitude'] = round(earth['latitude'])\n",
    "earth['longitude'] = round(earth['longitude'])"
   ]
  },
  {
   "cell_type": "markdown",
   "metadata": {},
   "source": [
    "Try to merge (latitude - longitude) as pair of coordinates"
   ]
  },
  {
   "cell_type": "code",
   "execution_count": 20,
   "metadata": {},
   "outputs": [],
   "source": [
    "earth['Coordinates'] = earth['latitude'].astype('str') + ',' +earth['longitude'].astype('str')"
   ]
  },
  {
   "cell_type": "markdown",
   "metadata": {},
   "source": [
    "Display the Data"
   ]
  },
  {
   "cell_type": "code",
   "execution_count": 21,
   "metadata": {
    "scrolled": false
   },
   "outputs": [
    {
     "data": {
      "text/html": [
       "<div>\n",
       "<style scoped>\n",
       "    .dataframe tbody tr th:only-of-type {\n",
       "        vertical-align: middle;\n",
       "    }\n",
       "\n",
       "    .dataframe tbody tr th {\n",
       "        vertical-align: top;\n",
       "    }\n",
       "\n",
       "    .dataframe thead th {\n",
       "        text-align: right;\n",
       "    }\n",
       "</style>\n",
       "<table border=\"1\" class=\"dataframe\">\n",
       "  <thead>\n",
       "    <tr style=\"text-align: right;\">\n",
       "      <th></th>\n",
       "      <th>latitude</th>\n",
       "      <th>longitude</th>\n",
       "      <th>depth</th>\n",
       "      <th>mag</th>\n",
       "      <th>magType</th>\n",
       "      <th>rms</th>\n",
       "      <th>net</th>\n",
       "      <th>place</th>\n",
       "      <th>type</th>\n",
       "      <th>depthError</th>\n",
       "      <th>Coordinates</th>\n",
       "    </tr>\n",
       "  </thead>\n",
       "  <tbody>\n",
       "    <tr>\n",
       "      <th>33613</th>\n",
       "      <td>-21.0</td>\n",
       "      <td>-174.0</td>\n",
       "      <td>10.00</td>\n",
       "      <td>5.0</td>\n",
       "      <td>mb</td>\n",
       "      <td>0.42</td>\n",
       "      <td>us</td>\n",
       "      <td>54 km ENE of ‘Ohonua, Tonga</td>\n",
       "      <td>earthquake</td>\n",
       "      <td>1.7</td>\n",
       "      <td>-21.0,-174.0</td>\n",
       "    </tr>\n",
       "    <tr>\n",
       "      <th>33612</th>\n",
       "      <td>65.0</td>\n",
       "      <td>-18.0</td>\n",
       "      <td>8.27</td>\n",
       "      <td>4.9</td>\n",
       "      <td>mb</td>\n",
       "      <td>0.45</td>\n",
       "      <td>us</td>\n",
       "      <td>122 km WNW of Höfn, Iceland</td>\n",
       "      <td>earthquake</td>\n",
       "      <td>3.8</td>\n",
       "      <td>65.0,-18.0</td>\n",
       "    </tr>\n",
       "    <tr>\n",
       "      <th>33611</th>\n",
       "      <td>-24.0</td>\n",
       "      <td>-180.0</td>\n",
       "      <td>512.78</td>\n",
       "      <td>4.2</td>\n",
       "      <td>mb</td>\n",
       "      <td>0.80</td>\n",
       "      <td>us</td>\n",
       "      <td>south of the Fiji Islands</td>\n",
       "      <td>earthquake</td>\n",
       "      <td>9.5</td>\n",
       "      <td>-24.0,-180.0</td>\n",
       "    </tr>\n",
       "    <tr>\n",
       "      <th>33610</th>\n",
       "      <td>36.0</td>\n",
       "      <td>-97.0</td>\n",
       "      <td>5.00</td>\n",
       "      <td>2.8</td>\n",
       "      <td>ml</td>\n",
       "      <td>0.45</td>\n",
       "      <td>us</td>\n",
       "      <td>11 km ENE of Orlando, Oklahoma</td>\n",
       "      <td>earthquake</td>\n",
       "      <td>2.0</td>\n",
       "      <td>36.0,-97.0</td>\n",
       "    </tr>\n",
       "    <tr>\n",
       "      <th>33609</th>\n",
       "      <td>-25.0</td>\n",
       "      <td>-180.0</td>\n",
       "      <td>524.26</td>\n",
       "      <td>4.5</td>\n",
       "      <td>mb</td>\n",
       "      <td>0.76</td>\n",
       "      <td>us</td>\n",
       "      <td>south of the Fiji Islands</td>\n",
       "      <td>earthquake</td>\n",
       "      <td>8.1</td>\n",
       "      <td>-25.0,-180.0</td>\n",
       "    </tr>\n",
       "  </tbody>\n",
       "</table>\n",
       "</div>"
      ],
      "text/plain": [
       "       latitude  longitude   depth  mag magType   rms net  \\\n",
       "33613     -21.0     -174.0   10.00  5.0      mb  0.42  us   \n",
       "33612      65.0      -18.0    8.27  4.9      mb  0.45  us   \n",
       "33611     -24.0     -180.0  512.78  4.2      mb  0.80  us   \n",
       "33610      36.0      -97.0    5.00  2.8      ml  0.45  us   \n",
       "33609     -25.0     -180.0  524.26  4.5      mb  0.76  us   \n",
       "\n",
       "                                place        type  depthError   Coordinates  \n",
       "33613     54 km ENE of ‘Ohonua, Tonga  earthquake         1.7  -21.0,-174.0  \n",
       "33612     122 km WNW of Höfn, Iceland  earthquake         3.8    65.0,-18.0  \n",
       "33611       south of the Fiji Islands  earthquake         9.5  -24.0,-180.0  \n",
       "33610  11 km ENE of Orlando, Oklahoma  earthquake         2.0    36.0,-97.0  \n",
       "33609       south of the Fiji Islands  earthquake         8.1  -25.0,-180.0  "
      ]
     },
     "execution_count": 21,
     "metadata": {},
     "output_type": "execute_result"
    }
   ],
   "source": [
    "earth.head()"
   ]
  },
  {
   "cell_type": "markdown",
   "metadata": {},
   "source": [
    "# -----------------------------------------------------------------------------------------------------------"
   ]
  },
  {
   "cell_type": "markdown",
   "metadata": {},
   "source": [
    "# Rain"
   ]
  },
  {
   "cell_type": "code",
   "execution_count": 22,
   "metadata": {
    "scrolled": true
   },
   "outputs": [
    {
     "data": {
      "text/html": [
       "<div>\n",
       "<style scoped>\n",
       "    .dataframe tbody tr th:only-of-type {\n",
       "        vertical-align: middle;\n",
       "    }\n",
       "\n",
       "    .dataframe tbody tr th {\n",
       "        vertical-align: top;\n",
       "    }\n",
       "\n",
       "    .dataframe thead th {\n",
       "        text-align: right;\n",
       "    }\n",
       "</style>\n",
       "<table border=\"1\" class=\"dataframe\">\n",
       "  <thead>\n",
       "    <tr style=\"text-align: right;\">\n",
       "      <th></th>\n",
       "      <th>OBJECTID</th>\n",
       "      <th>landslide_trigger</th>\n",
       "      <th>event_date</th>\n",
       "      <th>latitude</th>\n",
       "      <th>longitude</th>\n",
       "      <th>landslide_size</th>\n",
       "    </tr>\n",
       "  </thead>\n",
       "  <tbody>\n",
       "    <tr>\n",
       "      <th>0</th>\n",
       "      <td>5689756</td>\n",
       "      <td>rain</td>\n",
       "      <td>2008-08-01 00:00:00</td>\n",
       "      <td>32.5625</td>\n",
       "      <td>107.4500</td>\n",
       "      <td>large</td>\n",
       "    </tr>\n",
       "    <tr>\n",
       "      <th>1</th>\n",
       "      <td>5689757</td>\n",
       "      <td>downpour</td>\n",
       "      <td>2009-01-02 02:00:00</td>\n",
       "      <td>45.4200</td>\n",
       "      <td>-122.6630</td>\n",
       "      <td>small</td>\n",
       "    </tr>\n",
       "    <tr>\n",
       "      <th>2</th>\n",
       "      <td>5689758</td>\n",
       "      <td>downpour</td>\n",
       "      <td>2007-01-19 00:00:00</td>\n",
       "      <td>-11.1295</td>\n",
       "      <td>-75.3587</td>\n",
       "      <td>large</td>\n",
       "    </tr>\n",
       "    <tr>\n",
       "      <th>3</th>\n",
       "      <td>5689761</td>\n",
       "      <td>downpour</td>\n",
       "      <td>2012-02-16 00:00:00</td>\n",
       "      <td>10.7004</td>\n",
       "      <td>124.9668</td>\n",
       "      <td>medium</td>\n",
       "    </tr>\n",
       "    <tr>\n",
       "      <th>4</th>\n",
       "      <td>5689762</td>\n",
       "      <td>downpour</td>\n",
       "      <td>2012-03-30 00:00:00</td>\n",
       "      <td>48.2797</td>\n",
       "      <td>-117.2665</td>\n",
       "      <td>small</td>\n",
       "    </tr>\n",
       "  </tbody>\n",
       "</table>\n",
       "</div>"
      ],
      "text/plain": [
       "   OBJECTID landslide_trigger           event_date  latitude  longitude  \\\n",
       "0   5689756              rain  2008-08-01 00:00:00   32.5625   107.4500   \n",
       "1   5689757          downpour  2009-01-02 02:00:00   45.4200  -122.6630   \n",
       "2   5689758          downpour  2007-01-19 00:00:00  -11.1295   -75.3587   \n",
       "3   5689761          downpour  2012-02-16 00:00:00   10.7004   124.9668   \n",
       "4   5689762          downpour  2012-03-30 00:00:00   48.2797  -117.2665   \n",
       "\n",
       "  landslide_size  \n",
       "0          large  \n",
       "1          small  \n",
       "2          large  \n",
       "3         medium  \n",
       "4          small  "
      ]
     },
     "execution_count": 22,
     "metadata": {},
     "output_type": "execute_result"
    }
   ],
   "source": [
    "rain = pd.read_csv('rain data.csv')\n",
    "rain.head()"
   ]
  },
  {
   "cell_type": "markdown",
   "metadata": {},
   "source": [
    "Get the shape of the data"
   ]
  },
  {
   "cell_type": "code",
   "execution_count": 23,
   "metadata": {
    "scrolled": true
   },
   "outputs": [
    {
     "data": {
      "text/plain": [
       "(9675, 6)"
      ]
     },
     "execution_count": 23,
     "metadata": {},
     "output_type": "execute_result"
    }
   ],
   "source": [
    "rain.shape"
   ]
  },
  {
   "cell_type": "markdown",
   "metadata": {},
   "source": [
    "Getting more info about the data"
   ]
  },
  {
   "cell_type": "code",
   "execution_count": 24,
   "metadata": {},
   "outputs": [
    {
     "name": "stdout",
     "output_type": "stream",
     "text": [
      "<class 'pandas.core.frame.DataFrame'>\n",
      "RangeIndex: 9675 entries, 0 to 9674\n",
      "Data columns (total 6 columns):\n",
      " #   Column             Non-Null Count  Dtype  \n",
      "---  ------             --------------  -----  \n",
      " 0   OBJECTID           9675 non-null   int64  \n",
      " 1   landslide_trigger  9674 non-null   object \n",
      " 2   event_date         9471 non-null   object \n",
      " 3   latitude           9675 non-null   float64\n",
      " 4   longitude          9675 non-null   float64\n",
      " 5   landslide_size     9252 non-null   object \n",
      "dtypes: float64(2), int64(1), object(3)\n",
      "memory usage: 453.6+ KB\n"
     ]
    }
   ],
   "source": [
    "rain.info()"
   ]
  },
  {
   "cell_type": "markdown",
   "metadata": {},
   "source": [
    "Investigating the NaNs"
   ]
  },
  {
   "cell_type": "code",
   "execution_count": 25,
   "metadata": {
    "scrolled": true
   },
   "outputs": [
    {
     "data": {
      "text/plain": [
       "OBJECTID               0\n",
       "landslide_trigger      1\n",
       "event_date           204\n",
       "latitude               0\n",
       "longitude              0\n",
       "landslide_size       423\n",
       "dtype: int64"
      ]
     },
     "execution_count": 25,
     "metadata": {},
     "output_type": "execute_result"
    }
   ],
   "source": [
    "rain.isnull().sum()"
   ]
  },
  {
   "cell_type": "markdown",
   "metadata": {},
   "source": [
    "Drop Nans Value"
   ]
  },
  {
   "cell_type": "code",
   "execution_count": 26,
   "metadata": {},
   "outputs": [],
   "source": [
    "rain.dropna(inplace=True)"
   ]
  },
  {
   "cell_type": "code",
   "execution_count": 27,
   "metadata": {
    "scrolled": true
   },
   "outputs": [
    {
     "data": {
      "text/plain": [
       "OBJECTID             0\n",
       "landslide_trigger    0\n",
       "event_date           0\n",
       "latitude             0\n",
       "longitude            0\n",
       "landslide_size       0\n",
       "dtype: int64"
      ]
     },
     "execution_count": 27,
     "metadata": {},
     "output_type": "execute_result"
    }
   ],
   "source": [
    "rain.isnull().sum()"
   ]
  },
  {
   "cell_type": "markdown",
   "metadata": {},
   "source": [
    "Checking the duplicates"
   ]
  },
  {
   "cell_type": "code",
   "execution_count": 28,
   "metadata": {},
   "outputs": [
    {
     "data": {
      "text/plain": [
       "0"
      ]
     },
     "execution_count": 28,
     "metadata": {},
     "output_type": "execute_result"
    }
   ],
   "source": [
    "rain.duplicated().sum()"
   ]
  },
  {
   "cell_type": "code",
   "execution_count": 29,
   "metadata": {
    "scrolled": false
   },
   "outputs": [
    {
     "name": "stdout",
     "output_type": "stream",
     "text": [
      "<class 'pandas.core.frame.DataFrame'>\n",
      "Int64Index: 9063 entries, 0 to 9672\n",
      "Data columns (total 6 columns):\n",
      " #   Column             Non-Null Count  Dtype  \n",
      "---  ------             --------------  -----  \n",
      " 0   OBJECTID           9063 non-null   int64  \n",
      " 1   landslide_trigger  9063 non-null   object \n",
      " 2   event_date         9063 non-null   object \n",
      " 3   latitude           9063 non-null   float64\n",
      " 4   longitude          9063 non-null   float64\n",
      " 5   landslide_size     9063 non-null   object \n",
      "dtypes: float64(2), int64(1), object(3)\n",
      "memory usage: 495.6+ KB\n"
     ]
    }
   ],
   "source": [
    "rain.info()"
   ]
  },
  {
   "cell_type": "markdown",
   "metadata": {},
   "source": [
    "As shown above the columns that dosen't support our goal [event_date - OBJECTID ] will be dropped"
   ]
  },
  {
   "cell_type": "code",
   "execution_count": 30,
   "metadata": {},
   "outputs": [],
   "source": [
    "rain.drop(['event_date','OBJECTID'],axis=1,inplace=True)"
   ]
  },
  {
   "cell_type": "markdown",
   "metadata": {},
   "source": [
    "Trying to convert (latitude - longitude ) to int to be able to merge with rain dataframe according to (latitude , longitude )"
   ]
  },
  {
   "cell_type": "code",
   "execution_count": 31,
   "metadata": {},
   "outputs": [],
   "source": [
    "rain['latitude'] = round(rain['latitude'])\n",
    "rain['longitude'] = round(rain['longitude'])"
   ]
  },
  {
   "cell_type": "markdown",
   "metadata": {},
   "source": [
    "Try to merge (latitude - longitude) as pair of coordinates"
   ]
  },
  {
   "cell_type": "code",
   "execution_count": 32,
   "metadata": {},
   "outputs": [],
   "source": [
    "rain['Coordinates'] = rain['latitude'].astype('str') + ',' + rain['longitude'].astype('str')"
   ]
  },
  {
   "cell_type": "code",
   "execution_count": 33,
   "metadata": {},
   "outputs": [
    {
     "data": {
      "text/html": [
       "<div>\n",
       "<style scoped>\n",
       "    .dataframe tbody tr th:only-of-type {\n",
       "        vertical-align: middle;\n",
       "    }\n",
       "\n",
       "    .dataframe tbody tr th {\n",
       "        vertical-align: top;\n",
       "    }\n",
       "\n",
       "    .dataframe thead th {\n",
       "        text-align: right;\n",
       "    }\n",
       "</style>\n",
       "<table border=\"1\" class=\"dataframe\">\n",
       "  <thead>\n",
       "    <tr style=\"text-align: right;\">\n",
       "      <th></th>\n",
       "      <th>landslide_trigger</th>\n",
       "      <th>latitude</th>\n",
       "      <th>longitude</th>\n",
       "      <th>landslide_size</th>\n",
       "      <th>Coordinates</th>\n",
       "    </tr>\n",
       "  </thead>\n",
       "  <tbody>\n",
       "    <tr>\n",
       "      <th>0</th>\n",
       "      <td>rain</td>\n",
       "      <td>33.0</td>\n",
       "      <td>107.0</td>\n",
       "      <td>large</td>\n",
       "      <td>33.0,107.0</td>\n",
       "    </tr>\n",
       "    <tr>\n",
       "      <th>1</th>\n",
       "      <td>downpour</td>\n",
       "      <td>45.0</td>\n",
       "      <td>-123.0</td>\n",
       "      <td>small</td>\n",
       "      <td>45.0,-123.0</td>\n",
       "    </tr>\n",
       "    <tr>\n",
       "      <th>2</th>\n",
       "      <td>downpour</td>\n",
       "      <td>-11.0</td>\n",
       "      <td>-75.0</td>\n",
       "      <td>large</td>\n",
       "      <td>-11.0,-75.0</td>\n",
       "    </tr>\n",
       "    <tr>\n",
       "      <th>3</th>\n",
       "      <td>downpour</td>\n",
       "      <td>11.0</td>\n",
       "      <td>125.0</td>\n",
       "      <td>medium</td>\n",
       "      <td>11.0,125.0</td>\n",
       "    </tr>\n",
       "    <tr>\n",
       "      <th>4</th>\n",
       "      <td>downpour</td>\n",
       "      <td>48.0</td>\n",
       "      <td>-117.0</td>\n",
       "      <td>small</td>\n",
       "      <td>48.0,-117.0</td>\n",
       "    </tr>\n",
       "  </tbody>\n",
       "</table>\n",
       "</div>"
      ],
      "text/plain": [
       "  landslide_trigger  latitude  longitude landslide_size  Coordinates\n",
       "0              rain      33.0      107.0          large   33.0,107.0\n",
       "1          downpour      45.0     -123.0          small  45.0,-123.0\n",
       "2          downpour     -11.0      -75.0          large  -11.0,-75.0\n",
       "3          downpour      11.0      125.0         medium   11.0,125.0\n",
       "4          downpour      48.0     -117.0          small  48.0,-117.0"
      ]
     },
     "execution_count": 33,
     "metadata": {},
     "output_type": "execute_result"
    }
   ],
   "source": [
    "rain.head()"
   ]
  },
  {
   "cell_type": "markdown",
   "metadata": {},
   "source": [
    "# -----------------------------------------------------------------------------------------------------------"
   ]
  },
  {
   "cell_type": "markdown",
   "metadata": {},
   "source": [
    "Merging the Two datasets into Final_Data according to (latitude - longitude) Coordinates"
   ]
  },
  {
   "cell_type": "code",
   "execution_count": 34,
   "metadata": {},
   "outputs": [],
   "source": [
    "Final_Data = pd.merge(rain, earth, left_on='Coordinates',right_on='Coordinates',how='inner').drop(columns='Coordinates')"
   ]
  },
  {
   "cell_type": "markdown",
   "metadata": {},
   "source": [
    "Display the Final_Data"
   ]
  },
  {
   "cell_type": "code",
   "execution_count": 35,
   "metadata": {
    "scrolled": true
   },
   "outputs": [
    {
     "data": {
      "text/html": [
       "<div>\n",
       "<style scoped>\n",
       "    .dataframe tbody tr th:only-of-type {\n",
       "        vertical-align: middle;\n",
       "    }\n",
       "\n",
       "    .dataframe tbody tr th {\n",
       "        vertical-align: top;\n",
       "    }\n",
       "\n",
       "    .dataframe thead th {\n",
       "        text-align: right;\n",
       "    }\n",
       "</style>\n",
       "<table border=\"1\" class=\"dataframe\">\n",
       "  <thead>\n",
       "    <tr style=\"text-align: right;\">\n",
       "      <th></th>\n",
       "      <th>landslide_trigger</th>\n",
       "      <th>latitude_x</th>\n",
       "      <th>longitude_x</th>\n",
       "      <th>landslide_size</th>\n",
       "      <th>latitude_y</th>\n",
       "      <th>longitude_y</th>\n",
       "      <th>depth</th>\n",
       "      <th>mag</th>\n",
       "      <th>magType</th>\n",
       "      <th>rms</th>\n",
       "      <th>net</th>\n",
       "      <th>place</th>\n",
       "      <th>type</th>\n",
       "      <th>depthError</th>\n",
       "    </tr>\n",
       "  </thead>\n",
       "  <tbody>\n",
       "    <tr>\n",
       "      <th>0</th>\n",
       "      <td>downpour</td>\n",
       "      <td>45.0</td>\n",
       "      <td>-123.0</td>\n",
       "      <td>small</td>\n",
       "      <td>45.0</td>\n",
       "      <td>-123.0</td>\n",
       "      <td>51.602</td>\n",
       "      <td>3.13</td>\n",
       "      <td>ml</td>\n",
       "      <td>0.10</td>\n",
       "      <td>uw</td>\n",
       "      <td>24 km WNW of Gaston, Oregon</td>\n",
       "      <td>earthquake</td>\n",
       "      <td>0.68</td>\n",
       "    </tr>\n",
       "    <tr>\n",
       "      <th>1</th>\n",
       "      <td>downpour</td>\n",
       "      <td>45.0</td>\n",
       "      <td>-123.0</td>\n",
       "      <td>small</td>\n",
       "      <td>45.0</td>\n",
       "      <td>-123.0</td>\n",
       "      <td>26.650</td>\n",
       "      <td>3.03</td>\n",
       "      <td>ml</td>\n",
       "      <td>0.20</td>\n",
       "      <td>uw</td>\n",
       "      <td>Washington-Oregon border region</td>\n",
       "      <td>earthquake</td>\n",
       "      <td>0.41</td>\n",
       "    </tr>\n",
       "    <tr>\n",
       "      <th>2</th>\n",
       "      <td>downpour</td>\n",
       "      <td>45.0</td>\n",
       "      <td>-123.0</td>\n",
       "      <td>small</td>\n",
       "      <td>45.0</td>\n",
       "      <td>-123.0</td>\n",
       "      <td>23.700</td>\n",
       "      <td>3.03</td>\n",
       "      <td>ml</td>\n",
       "      <td>0.24</td>\n",
       "      <td>uw</td>\n",
       "      <td>4 km WNW of Woodburn, Oregon</td>\n",
       "      <td>earthquake</td>\n",
       "      <td>0.96</td>\n",
       "    </tr>\n",
       "    <tr>\n",
       "      <th>3</th>\n",
       "      <td>downpour</td>\n",
       "      <td>45.0</td>\n",
       "      <td>-123.0</td>\n",
       "      <td>small</td>\n",
       "      <td>45.0</td>\n",
       "      <td>-123.0</td>\n",
       "      <td>22.480</td>\n",
       "      <td>2.96</td>\n",
       "      <td>ml</td>\n",
       "      <td>0.22</td>\n",
       "      <td>uw</td>\n",
       "      <td>9 km NW of Keizer, Oregon</td>\n",
       "      <td>earthquake</td>\n",
       "      <td>0.98</td>\n",
       "    </tr>\n",
       "    <tr>\n",
       "      <th>4</th>\n",
       "      <td>downpour</td>\n",
       "      <td>45.0</td>\n",
       "      <td>-123.0</td>\n",
       "      <td>small</td>\n",
       "      <td>45.0</td>\n",
       "      <td>-123.0</td>\n",
       "      <td>17.370</td>\n",
       "      <td>3.96</td>\n",
       "      <td>ml</td>\n",
       "      <td>0.19</td>\n",
       "      <td>uw</td>\n",
       "      <td>5 km E of Scotts Mills, Oregon</td>\n",
       "      <td>earthquake</td>\n",
       "      <td>0.82</td>\n",
       "    </tr>\n",
       "  </tbody>\n",
       "</table>\n",
       "</div>"
      ],
      "text/plain": [
       "  landslide_trigger  latitude_x  longitude_x landslide_size  latitude_y  \\\n",
       "0          downpour        45.0       -123.0          small        45.0   \n",
       "1          downpour        45.0       -123.0          small        45.0   \n",
       "2          downpour        45.0       -123.0          small        45.0   \n",
       "3          downpour        45.0       -123.0          small        45.0   \n",
       "4          downpour        45.0       -123.0          small        45.0   \n",
       "\n",
       "   longitude_y   depth   mag magType   rms net  \\\n",
       "0       -123.0  51.602  3.13      ml  0.10  uw   \n",
       "1       -123.0  26.650  3.03      ml  0.20  uw   \n",
       "2       -123.0  23.700  3.03      ml  0.24  uw   \n",
       "3       -123.0  22.480  2.96      ml  0.22  uw   \n",
       "4       -123.0  17.370  3.96      ml  0.19  uw   \n",
       "\n",
       "                             place        type  depthError  \n",
       "0      24 km WNW of Gaston, Oregon  earthquake        0.68  \n",
       "1  Washington-Oregon border region  earthquake        0.41  \n",
       "2     4 km WNW of Woodburn, Oregon  earthquake        0.96  \n",
       "3        9 km NW of Keizer, Oregon  earthquake        0.98  \n",
       "4   5 km E of Scotts Mills, Oregon  earthquake        0.82  "
      ]
     },
     "execution_count": 35,
     "metadata": {},
     "output_type": "execute_result"
    }
   ],
   "source": [
    "Final_Data.head()"
   ]
  },
  {
   "cell_type": "markdown",
   "metadata": {},
   "source": [
    "Get the shape"
   ]
  },
  {
   "cell_type": "code",
   "execution_count": 36,
   "metadata": {},
   "outputs": [
    {
     "data": {
      "text/plain": [
       "(238658, 14)"
      ]
     },
     "execution_count": 36,
     "metadata": {},
     "output_type": "execute_result"
    }
   ],
   "source": [
    "Final_Data.shape"
   ]
  },
  {
   "cell_type": "markdown",
   "metadata": {},
   "source": [
    "Checking the Nans Values"
   ]
  },
  {
   "cell_type": "code",
   "execution_count": 37,
   "metadata": {
    "scrolled": false
   },
   "outputs": [
    {
     "data": {
      "text/plain": [
       "landslide_trigger    0\n",
       "latitude_x           0\n",
       "longitude_x          0\n",
       "landslide_size       0\n",
       "latitude_y           0\n",
       "longitude_y          0\n",
       "depth                0\n",
       "mag                  0\n",
       "magType              0\n",
       "rms                  0\n",
       "net                  0\n",
       "place                0\n",
       "type                 0\n",
       "depthError           0\n",
       "dtype: int64"
      ]
     },
     "execution_count": 37,
     "metadata": {},
     "output_type": "execute_result"
    }
   ],
   "source": [
    "Final_Data.isnull().sum()"
   ]
  },
  {
   "cell_type": "markdown",
   "metadata": {},
   "source": [
    "Checking the duplicates"
   ]
  },
  {
   "cell_type": "code",
   "execution_count": 38,
   "metadata": {
    "scrolled": false
   },
   "outputs": [
    {
     "data": {
      "text/plain": [
       "149010"
      ]
     },
     "execution_count": 38,
     "metadata": {},
     "output_type": "execute_result"
    }
   ],
   "source": [
    "Final_Data.duplicated().sum()"
   ]
  },
  {
   "cell_type": "markdown",
   "metadata": {},
   "source": [
    "Drop the duplicates"
   ]
  },
  {
   "cell_type": "code",
   "execution_count": 63,
   "metadata": {},
   "outputs": [],
   "source": [
    "Final_Data.drop_duplicates(inplace=True)"
   ]
  },
  {
   "cell_type": "code",
   "execution_count": 40,
   "metadata": {
    "scrolled": true
   },
   "outputs": [
    {
     "data": {
      "text/plain": [
       "0"
      ]
     },
     "execution_count": 40,
     "metadata": {},
     "output_type": "execute_result"
    }
   ],
   "source": [
    "Final_Data.duplicated().sum()"
   ]
  },
  {
   "cell_type": "markdown",
   "metadata": {},
   "source": [
    "Change some names of columns to be understandable"
   ]
  },
  {
   "cell_type": "code",
   "execution_count": 41,
   "metadata": {},
   "outputs": [],
   "source": [
    "Final_Data = Final_Data.rename(columns={'landslide_trigger': 'rain intensity','mag' : 'earthquakes magnitude'})"
   ]
  },
  {
   "cell_type": "markdown",
   "metadata": {},
   "source": [
    "Getting more info about the data"
   ]
  },
  {
   "cell_type": "code",
   "execution_count": 42,
   "metadata": {
    "scrolled": false
   },
   "outputs": [
    {
     "name": "stdout",
     "output_type": "stream",
     "text": [
      "<class 'pandas.core.frame.DataFrame'>\n",
      "Int64Index: 89648 entries, 0 to 238657\n",
      "Data columns (total 14 columns):\n",
      " #   Column                 Non-Null Count  Dtype  \n",
      "---  ------                 --------------  -----  \n",
      " 0   rain intensity         89648 non-null  object \n",
      " 1   latitude_x             89648 non-null  float64\n",
      " 2   longitude_x            89648 non-null  float64\n",
      " 3   landslide_size         89648 non-null  object \n",
      " 4   latitude_y             89648 non-null  float64\n",
      " 5   longitude_y            89648 non-null  float64\n",
      " 6   depth                  89648 non-null  float64\n",
      " 7   earthquakes magnitude  89648 non-null  float64\n",
      " 8   magType                89648 non-null  object \n",
      " 9   rms                    89648 non-null  float64\n",
      " 10  net                    89648 non-null  object \n",
      " 11  place                  89648 non-null  object \n",
      " 12  type                   89648 non-null  object \n",
      " 13  depthError             89648 non-null  float64\n",
      "dtypes: float64(8), object(6)\n",
      "memory usage: 10.3+ MB\n"
     ]
    }
   ],
   "source": [
    "Final_Data.info()"
   ]
  },
  {
   "cell_type": "markdown",
   "metadata": {},
   "source": [
    "selectting the desird features"
   ]
  },
  {
   "cell_type": "code",
   "execution_count": 43,
   "metadata": {},
   "outputs": [],
   "source": [
    "Final_Data = Final_Data.iloc[:,np.r_[0,1,2,3,6,7,9]]"
   ]
  },
  {
   "cell_type": "code",
   "execution_count": 44,
   "metadata": {
    "scrolled": false
   },
   "outputs": [
    {
     "data": {
      "text/html": [
       "<div>\n",
       "<style scoped>\n",
       "    .dataframe tbody tr th:only-of-type {\n",
       "        vertical-align: middle;\n",
       "    }\n",
       "\n",
       "    .dataframe tbody tr th {\n",
       "        vertical-align: top;\n",
       "    }\n",
       "\n",
       "    .dataframe thead th {\n",
       "        text-align: right;\n",
       "    }\n",
       "</style>\n",
       "<table border=\"1\" class=\"dataframe\">\n",
       "  <thead>\n",
       "    <tr style=\"text-align: right;\">\n",
       "      <th></th>\n",
       "      <th>rain intensity</th>\n",
       "      <th>latitude_x</th>\n",
       "      <th>longitude_x</th>\n",
       "      <th>landslide_size</th>\n",
       "      <th>depth</th>\n",
       "      <th>earthquakes magnitude</th>\n",
       "      <th>rms</th>\n",
       "    </tr>\n",
       "  </thead>\n",
       "  <tbody>\n",
       "    <tr>\n",
       "      <th>0</th>\n",
       "      <td>downpour</td>\n",
       "      <td>45.0</td>\n",
       "      <td>-123.0</td>\n",
       "      <td>small</td>\n",
       "      <td>51.602</td>\n",
       "      <td>3.13</td>\n",
       "      <td>0.10</td>\n",
       "    </tr>\n",
       "    <tr>\n",
       "      <th>1</th>\n",
       "      <td>downpour</td>\n",
       "      <td>45.0</td>\n",
       "      <td>-123.0</td>\n",
       "      <td>small</td>\n",
       "      <td>26.650</td>\n",
       "      <td>3.03</td>\n",
       "      <td>0.20</td>\n",
       "    </tr>\n",
       "    <tr>\n",
       "      <th>2</th>\n",
       "      <td>downpour</td>\n",
       "      <td>45.0</td>\n",
       "      <td>-123.0</td>\n",
       "      <td>small</td>\n",
       "      <td>23.700</td>\n",
       "      <td>3.03</td>\n",
       "      <td>0.24</td>\n",
       "    </tr>\n",
       "    <tr>\n",
       "      <th>3</th>\n",
       "      <td>downpour</td>\n",
       "      <td>45.0</td>\n",
       "      <td>-123.0</td>\n",
       "      <td>small</td>\n",
       "      <td>22.480</td>\n",
       "      <td>2.96</td>\n",
       "      <td>0.22</td>\n",
       "    </tr>\n",
       "    <tr>\n",
       "      <th>4</th>\n",
       "      <td>downpour</td>\n",
       "      <td>45.0</td>\n",
       "      <td>-123.0</td>\n",
       "      <td>small</td>\n",
       "      <td>17.370</td>\n",
       "      <td>3.96</td>\n",
       "      <td>0.19</td>\n",
       "    </tr>\n",
       "  </tbody>\n",
       "</table>\n",
       "</div>"
      ],
      "text/plain": [
       "  rain intensity  latitude_x  longitude_x landslide_size   depth  \\\n",
       "0       downpour        45.0       -123.0          small  51.602   \n",
       "1       downpour        45.0       -123.0          small  26.650   \n",
       "2       downpour        45.0       -123.0          small  23.700   \n",
       "3       downpour        45.0       -123.0          small  22.480   \n",
       "4       downpour        45.0       -123.0          small  17.370   \n",
       "\n",
       "   earthquakes magnitude   rms  \n",
       "0                   3.13  0.10  \n",
       "1                   3.03  0.20  \n",
       "2                   3.03  0.24  \n",
       "3                   2.96  0.22  \n",
       "4                   3.96  0.19  "
      ]
     },
     "execution_count": 44,
     "metadata": {},
     "output_type": "execute_result"
    }
   ],
   "source": [
    "Final_Data.head()"
   ]
  },
  {
   "cell_type": "markdown",
   "metadata": {},
   "source": [
    "Getting the one-hot encoding to the categorical features"
   ]
  },
  {
   "cell_type": "code",
   "execution_count": 45,
   "metadata": {},
   "outputs": [],
   "source": [
    "Final_Data = pd.get_dummies(Final_Data,drop_first=True)"
   ]
  },
  {
   "cell_type": "code",
   "execution_count": 46,
   "metadata": {
    "scrolled": true
   },
   "outputs": [
    {
     "data": {
      "text/html": [
       "<div>\n",
       "<style scoped>\n",
       "    .dataframe tbody tr th:only-of-type {\n",
       "        vertical-align: middle;\n",
       "    }\n",
       "\n",
       "    .dataframe tbody tr th {\n",
       "        vertical-align: top;\n",
       "    }\n",
       "\n",
       "    .dataframe thead th {\n",
       "        text-align: right;\n",
       "    }\n",
       "</style>\n",
       "<table border=\"1\" class=\"dataframe\">\n",
       "  <thead>\n",
       "    <tr style=\"text-align: right;\">\n",
       "      <th></th>\n",
       "      <th>latitude_x</th>\n",
       "      <th>longitude_x</th>\n",
       "      <th>depth</th>\n",
       "      <th>earthquakes magnitude</th>\n",
       "      <th>rms</th>\n",
       "      <th>rain intensity_downpour</th>\n",
       "      <th>rain intensity_rain</th>\n",
       "      <th>rain intensity_snowfall_snowmelt</th>\n",
       "      <th>landslide_size_large</th>\n",
       "      <th>landslide_size_medium</th>\n",
       "      <th>landslide_size_small</th>\n",
       "      <th>landslide_size_unknown</th>\n",
       "      <th>landslide_size_very_large</th>\n",
       "    </tr>\n",
       "  </thead>\n",
       "  <tbody>\n",
       "    <tr>\n",
       "      <th>0</th>\n",
       "      <td>45.0</td>\n",
       "      <td>-123.0</td>\n",
       "      <td>51.602</td>\n",
       "      <td>3.13</td>\n",
       "      <td>0.10</td>\n",
       "      <td>1</td>\n",
       "      <td>0</td>\n",
       "      <td>0</td>\n",
       "      <td>0</td>\n",
       "      <td>0</td>\n",
       "      <td>1</td>\n",
       "      <td>0</td>\n",
       "      <td>0</td>\n",
       "    </tr>\n",
       "    <tr>\n",
       "      <th>1</th>\n",
       "      <td>45.0</td>\n",
       "      <td>-123.0</td>\n",
       "      <td>26.650</td>\n",
       "      <td>3.03</td>\n",
       "      <td>0.20</td>\n",
       "      <td>1</td>\n",
       "      <td>0</td>\n",
       "      <td>0</td>\n",
       "      <td>0</td>\n",
       "      <td>0</td>\n",
       "      <td>1</td>\n",
       "      <td>0</td>\n",
       "      <td>0</td>\n",
       "    </tr>\n",
       "    <tr>\n",
       "      <th>2</th>\n",
       "      <td>45.0</td>\n",
       "      <td>-123.0</td>\n",
       "      <td>23.700</td>\n",
       "      <td>3.03</td>\n",
       "      <td>0.24</td>\n",
       "      <td>1</td>\n",
       "      <td>0</td>\n",
       "      <td>0</td>\n",
       "      <td>0</td>\n",
       "      <td>0</td>\n",
       "      <td>1</td>\n",
       "      <td>0</td>\n",
       "      <td>0</td>\n",
       "    </tr>\n",
       "    <tr>\n",
       "      <th>3</th>\n",
       "      <td>45.0</td>\n",
       "      <td>-123.0</td>\n",
       "      <td>22.480</td>\n",
       "      <td>2.96</td>\n",
       "      <td>0.22</td>\n",
       "      <td>1</td>\n",
       "      <td>0</td>\n",
       "      <td>0</td>\n",
       "      <td>0</td>\n",
       "      <td>0</td>\n",
       "      <td>1</td>\n",
       "      <td>0</td>\n",
       "      <td>0</td>\n",
       "    </tr>\n",
       "    <tr>\n",
       "      <th>4</th>\n",
       "      <td>45.0</td>\n",
       "      <td>-123.0</td>\n",
       "      <td>17.370</td>\n",
       "      <td>3.96</td>\n",
       "      <td>0.19</td>\n",
       "      <td>1</td>\n",
       "      <td>0</td>\n",
       "      <td>0</td>\n",
       "      <td>0</td>\n",
       "      <td>0</td>\n",
       "      <td>1</td>\n",
       "      <td>0</td>\n",
       "      <td>0</td>\n",
       "    </tr>\n",
       "  </tbody>\n",
       "</table>\n",
       "</div>"
      ],
      "text/plain": [
       "   latitude_x  longitude_x   depth  earthquakes magnitude   rms  \\\n",
       "0        45.0       -123.0  51.602                   3.13  0.10   \n",
       "1        45.0       -123.0  26.650                   3.03  0.20   \n",
       "2        45.0       -123.0  23.700                   3.03  0.24   \n",
       "3        45.0       -123.0  22.480                   2.96  0.22   \n",
       "4        45.0       -123.0  17.370                   3.96  0.19   \n",
       "\n",
       "   rain intensity_downpour  rain intensity_rain  \\\n",
       "0                        1                    0   \n",
       "1                        1                    0   \n",
       "2                        1                    0   \n",
       "3                        1                    0   \n",
       "4                        1                    0   \n",
       "\n",
       "   rain intensity_snowfall_snowmelt  landslide_size_large  \\\n",
       "0                                 0                     0   \n",
       "1                                 0                     0   \n",
       "2                                 0                     0   \n",
       "3                                 0                     0   \n",
       "4                                 0                     0   \n",
       "\n",
       "   landslide_size_medium  landslide_size_small  landslide_size_unknown  \\\n",
       "0                      0                     1                       0   \n",
       "1                      0                     1                       0   \n",
       "2                      0                     1                       0   \n",
       "3                      0                     1                       0   \n",
       "4                      0                     1                       0   \n",
       "\n",
       "   landslide_size_very_large  \n",
       "0                          0  \n",
       "1                          0  \n",
       "2                          0  \n",
       "3                          0  \n",
       "4                          0  "
      ]
     },
     "execution_count": 46,
     "metadata": {},
     "output_type": "execute_result"
    }
   ],
   "source": [
    "Final_Data.head()"
   ]
  },
  {
   "cell_type": "markdown",
   "metadata": {},
   "source": [
    "the minimum ratio of earthquakes magnitude is 2.12 after searching we find that when the earthquakes magnitude is equal to or lower than 3.1 the earthquakes don't cause landslide"
   ]
  },
  {
   "cell_type": "code",
   "execution_count": 47,
   "metadata": {
    "scrolled": true
   },
   "outputs": [],
   "source": [
    "Final_Data['landslide'] = np.where(Final_Data['earthquakes magnitude'] < 3.1,0,1)"
   ]
  },
  {
   "cell_type": "code",
   "execution_count": 48,
   "metadata": {
    "scrolled": false
   },
   "outputs": [
    {
     "data": {
      "text/plain": [
       "1    46895\n",
       "0    42753\n",
       "Name: landslide, dtype: int64"
      ]
     },
     "execution_count": 48,
     "metadata": {},
     "output_type": "execute_result"
    }
   ],
   "source": [
    "Final_Data['landslide'].value_counts()"
   ]
  },
  {
   "cell_type": "code",
   "execution_count": 49,
   "metadata": {
    "scrolled": true
   },
   "outputs": [
    {
     "data": {
      "text/html": [
       "<div>\n",
       "<style scoped>\n",
       "    .dataframe tbody tr th:only-of-type {\n",
       "        vertical-align: middle;\n",
       "    }\n",
       "\n",
       "    .dataframe tbody tr th {\n",
       "        vertical-align: top;\n",
       "    }\n",
       "\n",
       "    .dataframe thead th {\n",
       "        text-align: right;\n",
       "    }\n",
       "</style>\n",
       "<table border=\"1\" class=\"dataframe\">\n",
       "  <thead>\n",
       "    <tr style=\"text-align: right;\">\n",
       "      <th></th>\n",
       "      <th>latitude_x</th>\n",
       "      <th>longitude_x</th>\n",
       "      <th>depth</th>\n",
       "      <th>earthquakes magnitude</th>\n",
       "      <th>rms</th>\n",
       "      <th>rain intensity_downpour</th>\n",
       "      <th>rain intensity_rain</th>\n",
       "      <th>rain intensity_snowfall_snowmelt</th>\n",
       "      <th>landslide_size_large</th>\n",
       "      <th>landslide_size_medium</th>\n",
       "      <th>landslide_size_small</th>\n",
       "      <th>landslide_size_unknown</th>\n",
       "      <th>landslide_size_very_large</th>\n",
       "      <th>landslide</th>\n",
       "    </tr>\n",
       "  </thead>\n",
       "  <tbody>\n",
       "    <tr>\n",
       "      <th>0</th>\n",
       "      <td>45.0</td>\n",
       "      <td>-123.0</td>\n",
       "      <td>51.602</td>\n",
       "      <td>3.13</td>\n",
       "      <td>0.10</td>\n",
       "      <td>1</td>\n",
       "      <td>0</td>\n",
       "      <td>0</td>\n",
       "      <td>0</td>\n",
       "      <td>0</td>\n",
       "      <td>1</td>\n",
       "      <td>0</td>\n",
       "      <td>0</td>\n",
       "      <td>1</td>\n",
       "    </tr>\n",
       "    <tr>\n",
       "      <th>1</th>\n",
       "      <td>45.0</td>\n",
       "      <td>-123.0</td>\n",
       "      <td>26.650</td>\n",
       "      <td>3.03</td>\n",
       "      <td>0.20</td>\n",
       "      <td>1</td>\n",
       "      <td>0</td>\n",
       "      <td>0</td>\n",
       "      <td>0</td>\n",
       "      <td>0</td>\n",
       "      <td>1</td>\n",
       "      <td>0</td>\n",
       "      <td>0</td>\n",
       "      <td>0</td>\n",
       "    </tr>\n",
       "    <tr>\n",
       "      <th>2</th>\n",
       "      <td>45.0</td>\n",
       "      <td>-123.0</td>\n",
       "      <td>23.700</td>\n",
       "      <td>3.03</td>\n",
       "      <td>0.24</td>\n",
       "      <td>1</td>\n",
       "      <td>0</td>\n",
       "      <td>0</td>\n",
       "      <td>0</td>\n",
       "      <td>0</td>\n",
       "      <td>1</td>\n",
       "      <td>0</td>\n",
       "      <td>0</td>\n",
       "      <td>0</td>\n",
       "    </tr>\n",
       "    <tr>\n",
       "      <th>3</th>\n",
       "      <td>45.0</td>\n",
       "      <td>-123.0</td>\n",
       "      <td>22.480</td>\n",
       "      <td>2.96</td>\n",
       "      <td>0.22</td>\n",
       "      <td>1</td>\n",
       "      <td>0</td>\n",
       "      <td>0</td>\n",
       "      <td>0</td>\n",
       "      <td>0</td>\n",
       "      <td>1</td>\n",
       "      <td>0</td>\n",
       "      <td>0</td>\n",
       "      <td>0</td>\n",
       "    </tr>\n",
       "    <tr>\n",
       "      <th>4</th>\n",
       "      <td>45.0</td>\n",
       "      <td>-123.0</td>\n",
       "      <td>17.370</td>\n",
       "      <td>3.96</td>\n",
       "      <td>0.19</td>\n",
       "      <td>1</td>\n",
       "      <td>0</td>\n",
       "      <td>0</td>\n",
       "      <td>0</td>\n",
       "      <td>0</td>\n",
       "      <td>1</td>\n",
       "      <td>0</td>\n",
       "      <td>0</td>\n",
       "      <td>1</td>\n",
       "    </tr>\n",
       "  </tbody>\n",
       "</table>\n",
       "</div>"
      ],
      "text/plain": [
       "   latitude_x  longitude_x   depth  earthquakes magnitude   rms  \\\n",
       "0        45.0       -123.0  51.602                   3.13  0.10   \n",
       "1        45.0       -123.0  26.650                   3.03  0.20   \n",
       "2        45.0       -123.0  23.700                   3.03  0.24   \n",
       "3        45.0       -123.0  22.480                   2.96  0.22   \n",
       "4        45.0       -123.0  17.370                   3.96  0.19   \n",
       "\n",
       "   rain intensity_downpour  rain intensity_rain  \\\n",
       "0                        1                    0   \n",
       "1                        1                    0   \n",
       "2                        1                    0   \n",
       "3                        1                    0   \n",
       "4                        1                    0   \n",
       "\n",
       "   rain intensity_snowfall_snowmelt  landslide_size_large  \\\n",
       "0                                 0                     0   \n",
       "1                                 0                     0   \n",
       "2                                 0                     0   \n",
       "3                                 0                     0   \n",
       "4                                 0                     0   \n",
       "\n",
       "   landslide_size_medium  landslide_size_small  landslide_size_unknown  \\\n",
       "0                      0                     1                       0   \n",
       "1                      0                     1                       0   \n",
       "2                      0                     1                       0   \n",
       "3                      0                     1                       0   \n",
       "4                      0                     1                       0   \n",
       "\n",
       "   landslide_size_very_large  landslide  \n",
       "0                          0          1  \n",
       "1                          0          0  \n",
       "2                          0          0  \n",
       "3                          0          0  \n",
       "4                          0          1  "
      ]
     },
     "execution_count": 49,
     "metadata": {},
     "output_type": "execute_result"
    }
   ],
   "source": [
    "Final_Data.head()"
   ]
  },
  {
   "cell_type": "code",
   "execution_count": 50,
   "metadata": {},
   "outputs": [],
   "source": [
    "new_data = Final_Data.drop('earthquakes magnitude',axis=1)"
   ]
  },
  {
   "cell_type": "markdown",
   "metadata": {},
   "source": [
    "# Model"
   ]
  },
  {
   "cell_type": "markdown",
   "metadata": {},
   "source": [
    "- define the inputs and the outputs"
   ]
  },
  {
   "cell_type": "code",
   "execution_count": 51,
   "metadata": {},
   "outputs": [],
   "source": [
    "x = new_data.iloc[:,:-1]\n",
    "y = new_data.iloc[:,-1]"
   ]
  },
  {
   "cell_type": "markdown",
   "metadata": {},
   "source": [
    "- split the data into train and test data"
   ]
  },
  {
   "cell_type": "code",
   "execution_count": 52,
   "metadata": {},
   "outputs": [],
   "source": [
    "from sklearn.model_selection import train_test_split\n",
    "X_train, X_test, y_train, y_test = train_test_split(x, y, test_size=0.33, random_state=42)"
   ]
  },
  {
   "cell_type": "markdown",
   "metadata": {},
   "source": [
    "> LGB Model"
   ]
  },
  {
   "cell_type": "code",
   "execution_count": 53,
   "metadata": {},
   "outputs": [
    {
     "data": {
      "text/plain": [
       "LGBMClassifier()"
      ]
     },
     "execution_count": 53,
     "metadata": {},
     "output_type": "execute_result"
    }
   ],
   "source": [
    "import lightgbm as lgb\n",
    "clf = lgb.LGBMClassifier()\n",
    "clf.fit(X_train, y_train)"
   ]
  },
  {
   "cell_type": "markdown",
   "metadata": {},
   "source": [
    "- Prediction"
   ]
  },
  {
   "cell_type": "code",
   "execution_count": 54,
   "metadata": {},
   "outputs": [],
   "source": [
    "y_pred=clf.predict(X_test)"
   ]
  },
  {
   "cell_type": "markdown",
   "metadata": {},
   "source": [
    "- Model Accuracy"
   ]
  },
  {
   "cell_type": "code",
   "execution_count": 55,
   "metadata": {
    "scrolled": true
   },
   "outputs": [
    {
     "name": "stdout",
     "output_type": "stream",
     "text": [
      "LightGBM Model accuracy score: 0.8676\n"
     ]
    }
   ],
   "source": [
    "from sklearn.metrics import accuracy_score\n",
    "accuracy=accuracy_score(y_pred, y_test)\n",
    "print('LightGBM Model accuracy score: {0:0.4f}'.format(accuracy_score(y_test, y_pred)))"
   ]
  },
  {
   "cell_type": "markdown",
   "metadata": {},
   "source": [
    "> Logistic Regression Model"
   ]
  },
  {
   "cell_type": "code",
   "execution_count": 56,
   "metadata": {},
   "outputs": [
    {
     "data": {
      "text/plain": [
       "LogisticRegression(solver='liblinear')"
      ]
     },
     "execution_count": 56,
     "metadata": {},
     "output_type": "execute_result"
    }
   ],
   "source": [
    "# train a logistic regression model on the training set\n",
    "from sklearn.linear_model import LogisticRegression\n",
    "\n",
    "\n",
    "# instantiate the model\n",
    "logreg = LogisticRegression(solver='liblinear')\n",
    "\n",
    "\n",
    "# fit the model\n",
    "logreg.fit(X_train, y_train)"
   ]
  },
  {
   "cell_type": "markdown",
   "metadata": {},
   "source": [
    "- Prediction"
   ]
  },
  {
   "cell_type": "code",
   "execution_count": 57,
   "metadata": {},
   "outputs": [],
   "source": [
    "y_pred_test = logreg.predict(X_test)"
   ]
  },
  {
   "cell_type": "markdown",
   "metadata": {},
   "source": [
    "- Model Accuracy"
   ]
  },
  {
   "cell_type": "code",
   "execution_count": 58,
   "metadata": {},
   "outputs": [
    {
     "name": "stdout",
     "output_type": "stream",
     "text": [
      "Model accuracy score: 0.8416\n"
     ]
    }
   ],
   "source": [
    "from sklearn.metrics import accuracy_score\n",
    "\n",
    "print('Model accuracy score: {0:0.4f}'. format(accuracy_score(y_test, y_pred_test)))"
   ]
  },
  {
   "cell_type": "markdown",
   "metadata": {},
   "source": [
    "> XGBoost Model"
   ]
  },
  {
   "cell_type": "code",
   "execution_count": 59,
   "metadata": {},
   "outputs": [
    {
     "name": "stderr",
     "output_type": "stream",
     "text": [
      "C:\\Users\\ibrah\\Anaconda3\\lib\\site-packages\\xgboost\\sklearn.py:1146: UserWarning: The use of label encoder in XGBClassifier is deprecated and will be removed in a future release. To remove this warning, do the following: 1) Pass option use_label_encoder=False when constructing XGBClassifier object; and 2) Encode your labels (y) as integers starting with 0, i.e. 0, 1, 2, ..., [num_class - 1].\n",
      "  warnings.warn(label_encoder_deprecation_msg, UserWarning)\n"
     ]
    },
    {
     "name": "stdout",
     "output_type": "stream",
     "text": [
      "[19:05:13] WARNING: C:/Users/Administrator/workspace/xgboost-win64_release_1.4.0/src/learner.cc:1095: Starting in XGBoost 1.3.0, the default evaluation metric used with the objective 'binary:logistic' was changed from 'error' to 'logloss'. Explicitly set eval_metric if you'd like to restore the old behavior.\n"
     ]
    },
    {
     "data": {
      "text/plain": [
       "XGBClassifier(base_score=0.5, booster='gbtree', colsample_bylevel=1,\n",
       "              colsample_bynode=1, colsample_bytree=1, gamma=0, gpu_id=-1,\n",
       "              importance_type='gain', interaction_constraints='',\n",
       "              learning_rate=0.300000012, max_delta_step=0, max_depth=6,\n",
       "              min_child_weight=1, missing=nan, monotone_constraints='()',\n",
       "              n_estimators=100, n_jobs=4, num_parallel_tree=1, random_state=0,\n",
       "              reg_alpha=0, reg_lambda=1, scale_pos_weight=1, subsample=1,\n",
       "              tree_method='exact', validate_parameters=1, verbosity=None)"
      ]
     },
     "execution_count": 59,
     "metadata": {},
     "output_type": "execute_result"
    }
   ],
   "source": [
    "from xgboost import XGBClassifier\n",
    "\n",
    "my_model = XGBClassifier()\n",
    "# Add silent=True to avoid printing out updates with each cycle\n",
    "my_model.fit(X_train, y_train)"
   ]
  },
  {
   "cell_type": "markdown",
   "metadata": {},
   "source": [
    "- Prediction"
   ]
  },
  {
   "cell_type": "code",
   "execution_count": 60,
   "metadata": {},
   "outputs": [],
   "source": [
    "# make predictions\n",
    "predictions = my_model.predict(X_test)"
   ]
  },
  {
   "cell_type": "markdown",
   "metadata": {},
   "source": [
    "- Model Accuracy"
   ]
  },
  {
   "cell_type": "code",
   "execution_count": 61,
   "metadata": {},
   "outputs": [
    {
     "name": "stdout",
     "output_type": "stream",
     "text": [
      "Model accuracy score: 0.8789\n"
     ]
    }
   ],
   "source": [
    "from sklearn.metrics import accuracy_score\n",
    "\n",
    "print('Model accuracy score: {0:0.4f}'. format(accuracy_score(y_test, predictions)))"
   ]
  },
  {
   "cell_type": "markdown",
   "metadata": {},
   "source": [
    "# Conclusion"
   ]
  },
  {
   "cell_type": "markdown",
   "metadata": {},
   "source": [
    "As we see the XGBoost Model has the best the accuracy (0.8789) "
   ]
  },
  {
   "cell_type": "code",
   "execution_count": null,
   "metadata": {},
   "outputs": [],
   "source": []
  }
 ],
 "metadata": {
  "kernelspec": {
   "display_name": "Python 3",
   "language": "python",
   "name": "python3"
  },
  "language_info": {
   "codemirror_mode": {
    "name": "ipython",
    "version": 3
   },
   "file_extension": ".py",
   "mimetype": "text/x-python",
   "name": "python",
   "nbconvert_exporter": "python",
   "pygments_lexer": "ipython3",
   "version": "3.8.3"
  }
 },
 "nbformat": 4,
 "nbformat_minor": 4
}
